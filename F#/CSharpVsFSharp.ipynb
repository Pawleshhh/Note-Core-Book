{
 "cells": [
  {
   "attachments": {},
   "cell_type": "markdown",
   "metadata": {},
   "source": [
    "# MEET THE F# (vs C#)"
   ]
  },
  {
   "attachments": {},
   "cell_type": "markdown",
   "metadata": {},
   "source": [
    "## Quick introduction to F# (vs C#)"
   ]
  },
  {
   "cell_type": "code",
   "execution_count": null,
   "metadata": {
    "dotnet_interactive": {
     "language": "csharp"
    },
    "polyglot_notebook": {
     "kernelName": "csharp"
    }
   },
   "outputs": [],
   "source": [
    "using System;\n",
    "\n",
    "(int Words, int Duplicates) WordCount(string text)\n",
    "{\n",
    "    var words = text.Split(' ');\n",
    "    var wordSet = words.ToHashSet();\n",
    "    var nWords = words.Length;\n",
    "    var nDups = words.Length - wordSet.Count;\n",
    "    return (nWords, nDups);\n",
    "}\n",
    "\n",
    "void ShowWordCount(string text)\n",
    "{\n",
    "    var (nWords, nDups) = WordCount(text);\n",
    "    Console.WriteLine($\"--> {nWords} words in the text\");\n",
    "    Console.WriteLine($\"--> {nDups} duplicate words\");\n",
    "}\n",
    "\n",
    "ShowWordCount(\"Lorem ipsum lorem not-ipsum and Lorem ipsum again...\");"
   ]
  },
  {
   "cell_type": "markdown",
   "metadata": {},
   "source": [
    "### 1"
   ]
  },
  {
   "cell_type": "code",
   "execution_count": null,
   "metadata": {
    "dotnet_interactive": {
     "language": "csharp"
    },
    "polyglot_notebook": {
     "kernelName": "csharp"
    }
   },
   "outputs": [],
   "source": [
    "int CalculateSomething(Func<double, double, int> calculate)\n",
    "    => calculate(3.1, 0.9);\n",
    "\n",
    "var x = CalculateSomething((x, y) => Convert.ToInt32(x + y));\n",
    "\n",
    "x"
   ]
  },
  {
   "cell_type": "markdown",
   "metadata": {},
   "source": [
    "### 2"
   ]
  },
  {
   "cell_type": "code",
   "execution_count": null,
   "metadata": {
    "dotnet_interactive": {
     "language": "csharp"
    },
    "polyglot_notebook": {
     "kernelName": "csharp"
    }
   },
   "outputs": [],
   "source": [
    "int GiveMeTuple((int, double) tuple)\n",
    "{\n",
    "    var (x, y) = tuple;\n",
    "    return x + (int)y;\n",
    "}\n",
    "\n",
    "var g = GiveMeTuple((1, 4.5));\n",
    "g"
   ]
  },
  {
   "cell_type": "markdown",
   "metadata": {},
   "source": [
    "### 3"
   ]
  },
  {
   "cell_type": "code",
   "execution_count": null,
   "metadata": {
    "dotnet_interactive": {
     "language": "csharp"
    },
    "polyglot_notebook": {
     "kernelName": "csharp"
    }
   },
   "outputs": [],
   "source": [
    "(string, string) GiveMeGenericTuple<T, U>((T, U) tuple)\n",
    "{\n",
    "    var (x, y) = tuple;\n",
    "    return (x.ToString(), y.ToString());\n",
    "}\n",
    "\n",
    "var t = GiveMeGenericTuple((3, \"Hi!\"));\n",
    "t"
   ]
  },
  {
   "cell_type": "markdown",
   "metadata": {},
   "source": [
    "### 4"
   ]
  },
  {
   "cell_type": "code",
   "execution_count": null,
   "metadata": {
    "dotnet_interactive": {
     "language": "csharp"
    },
    "polyglot_notebook": {
     "kernelName": "csharp"
    }
   },
   "outputs": [],
   "source": [
    "interface IHaveLength\n",
    "{\n",
    "    int Length { get; }\n",
    "}\n",
    "class DataWithLength<T> : IHaveLength\n",
    "{\n",
    "    private readonly Func<int> getLength;\n",
    "    public DataWithLength(Func<int> getLength)\n",
    "        => this.getLength = getLength;\n",
    "\n",
    "    public int Length => getLength();\n",
    "}\n",
    "\n",
    "(string, int) Give_Me_Generic_Tuple_With_Constraints<T, U>((T, U) tuple)\n",
    "    where U : IHaveLength\n",
    "{\n",
    "    var (x, y) = tuple;\n",
    "    return (x.ToString(), y.Length);\n",
    "}\n",
    "\n",
    "var x = Give_Me_Generic_Tuple_With_Constraints(\n",
    "    (3, new DataWithLength<string>(() => \"Hi!\".Length)));\n",
    "x"
   ]
  },
  {
   "cell_type": "markdown",
   "metadata": {},
   "source": [
    "### 5"
   ]
  },
  {
   "cell_type": "code",
   "execution_count": 21,
   "metadata": {
    "dotnet_interactive": {
     "language": "csharp"
    },
    "polyglot_notebook": {
     "kernelName": "csharp"
    }
   },
   "outputs": [
    {
     "data": {
      "text/html": [
       "<div class=\"dni-plaintext\"><pre>30</pre></div><style>\r\n",
       ".dni-code-hint {\r\n",
       "    font-style: italic;\r\n",
       "    overflow: hidden;\r\n",
       "    white-space: nowrap;\r\n",
       "}\r\n",
       ".dni-treeview {\r\n",
       "    white-space: nowrap;\r\n",
       "}\r\n",
       ".dni-treeview td {\r\n",
       "    vertical-align: top;\r\n",
       "    text-align: start;\r\n",
       "}\r\n",
       "details.dni-treeview {\r\n",
       "    padding-left: 1em;\r\n",
       "}\r\n",
       "table td {\r\n",
       "    text-align: start;\r\n",
       "}\r\n",
       "table tr { \r\n",
       "    vertical-align: top; \r\n",
       "    margin: 0em 0px;\r\n",
       "}\r\n",
       "table tr td pre \r\n",
       "{ \r\n",
       "    vertical-align: top !important; \r\n",
       "    margin: 0em 0px !important;\r\n",
       "} \r\n",
       "table th {\r\n",
       "    text-align: start;\r\n",
       "}\r\n",
       "</style>"
      ]
     },
     "metadata": {},
     "output_type": "display_data"
    }
   ],
   "source": [
    "var amIaFunction = new Func<int>(() =>\n",
    "{\n",
    "    var x = 3 + 2;\n",
    "    var y = 3 * 2;\n",
    "    return x * y;\n",
    "}).Invoke();\n",
    "amIaFunction"
   ]
  },
  {
   "cell_type": "markdown",
   "metadata": {},
   "source": [
    "### 6"
   ]
  },
  {
   "cell_type": "code",
   "execution_count": 14,
   "metadata": {
    "dotnet_interactive": {
     "language": "csharp"
    },
    "polyglot_notebook": {
     "kernelName": "csharp"
    }
   },
   "outputs": [
    {
     "data": {
      "text/html": [
       "<div class=\"dni-plaintext\"><pre>30</pre></div><style>\r\n",
       ".dni-code-hint {\r\n",
       "    font-style: italic;\r\n",
       "    overflow: hidden;\r\n",
       "    white-space: nowrap;\r\n",
       "}\r\n",
       ".dni-treeview {\r\n",
       "    white-space: nowrap;\r\n",
       "}\r\n",
       ".dni-treeview td {\r\n",
       "    vertical-align: top;\r\n",
       "    text-align: start;\r\n",
       "}\r\n",
       "details.dni-treeview {\r\n",
       "    padding-left: 1em;\r\n",
       "}\r\n",
       "table td {\r\n",
       "    text-align: start;\r\n",
       "}\r\n",
       "table tr { \r\n",
       "    vertical-align: top; \r\n",
       "    margin: 0em 0px;\r\n",
       "}\r\n",
       "table tr td pre \r\n",
       "{ \r\n",
       "    vertical-align: top !important; \r\n",
       "    margin: 0em 0px !important;\r\n",
       "} \r\n",
       "table th {\r\n",
       "    text-align: start;\r\n",
       "}\r\n",
       "</style>"
      ]
     },
     "metadata": {},
     "output_type": "display_data"
    }
   ],
   "source": [
    "int amIAfunctionQuestionMark()\n",
    "{\n",
    "    var x = 3 + 2;\n",
    "    var y = 3 * 2;\n",
    "    return x * y;\n",
    "}\n",
    "\n",
    "var x = amIAfunctionQuestionMark();\n",
    "x"
   ]
  }
 ],
 "metadata": {
  "kernelspec": {
   "display_name": ".NET (F#)",
   "language": "F#",
   "name": ".net-fsharp"
  },
  "language_info": {
   "name": "polyglot-notebook"
  },
  "polyglot_notebook": {
   "kernelInfo": {
    "defaultKernelName": "fsharp",
    "items": [
     {
      "aliases": [],
      "languageName": "fsharp",
      "name": "fsharp"
     }
    ]
   }
  }
 },
 "nbformat": 4,
 "nbformat_minor": 2
}
