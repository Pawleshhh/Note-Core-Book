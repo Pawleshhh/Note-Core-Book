{
 "cells": [
  {
   "attachments": {},
   "cell_type": "markdown",
   "metadata": {},
   "source": [
    "# MEET THE F# (vs C#)"
   ]
  },
  {
   "attachments": {},
   "cell_type": "markdown",
   "metadata": {},
   "source": [
    "## Quick introduction to F# (vs C#)"
   ]
  },
  {
   "cell_type": "code",
   "execution_count": null,
   "metadata": {
    "dotnet_interactive": {
     "language": "csharp"
    },
    "polyglot_notebook": {
     "kernelName": "csharp"
    }
   },
   "outputs": [],
   "source": [
    "using System;\n",
    "\n",
    "(int Words, int Duplicates) WordCount(string text)\n",
    "{\n",
    "    var words = text.Split(' ');\n",
    "    var wordSet = words.ToHashSet();\n",
    "    var nWords = words.Length;\n",
    "    var nDups = words.Length - wordSet.Count;\n",
    "    return (nWords, nDups);\n",
    "}\n",
    "\n",
    "void ShowWordCount(string text)\n",
    "{\n",
    "    var (nWords, nDups) = WordCount(text);\n",
    "    Console.WriteLine($\"--> {nWords} words in the text\");\n",
    "    Console.WriteLine($\"--> {nDups} duplicate words\");\n",
    "}\n",
    "\n",
    "ShowWordCount(\"Lorem ipsum lorem not-ipsum and Lorem ipsum again...\");"
   ]
  },
  {
   "cell_type": "markdown",
   "metadata": {},
   "source": [
    "### 1"
   ]
  },
  {
   "cell_type": "code",
   "execution_count": null,
   "metadata": {
    "dotnet_interactive": {
     "language": "csharp"
    },
    "polyglot_notebook": {
     "kernelName": "csharp"
    }
   },
   "outputs": [],
   "source": [
    "int CalculateSomething(Func<double, double, int> calculate)\n",
    "    => calculate(3.1, 0.9);\n",
    "\n",
    "var x = CalculateSomething((x, y) => Convert.ToInt32(x + y));\n",
    "\n",
    "x"
   ]
  },
  {
   "cell_type": "markdown",
   "metadata": {},
   "source": [
    "### 2"
   ]
  },
  {
   "cell_type": "code",
   "execution_count": null,
   "metadata": {
    "dotnet_interactive": {
     "language": "csharp"
    },
    "polyglot_notebook": {
     "kernelName": "csharp"
    }
   },
   "outputs": [],
   "source": [
    "int GiveMeTuple((int, double) tuple)\n",
    "{\n",
    "    var (x, y) = tuple;\n",
    "    return x + (int)y;\n",
    "}\n",
    "\n",
    "var g = GiveMeTuple((1, 4.5));\n",
    "g"
   ]
  },
  {
   "cell_type": "markdown",
   "metadata": {},
   "source": [
    "### 3"
   ]
  },
  {
   "cell_type": "code",
   "execution_count": null,
   "metadata": {
    "dotnet_interactive": {
     "language": "csharp"
    },
    "polyglot_notebook": {
     "kernelName": "csharp"
    }
   },
   "outputs": [],
   "source": [
    "(string, string) GiveMeGenericTuple<T, U>((T, U) tuple)\n",
    "{\n",
    "    var (x, y) = tuple;\n",
    "    return (x.ToString(), y.ToString());\n",
    "}\n",
    "\n",
    "var t = GiveMeGenericTuple((3, \"Hi!\"));\n",
    "t"
   ]
  },
  {
   "cell_type": "markdown",
   "metadata": {},
   "source": [
    "### 4"
   ]
  },
  {
   "cell_type": "code",
   "execution_count": null,
   "metadata": {
    "dotnet_interactive": {
     "language": "csharp"
    },
    "polyglot_notebook": {
     "kernelName": "csharp"
    }
   },
   "outputs": [],
   "source": [
    "interface IHaveLength\n",
    "{\n",
    "    int Length { get; }\n",
    "}\n",
    "class DataWithLength<T> : IHaveLength\n",
    "{\n",
    "    private readonly Func<int> getLength;\n",
    "    public DataWithLength(Func<int> getLength)\n",
    "        => this.getLength = getLength;\n",
    "\n",
    "    public int Length => getLength();\n",
    "}\n",
    "\n",
    "(string, int) Give_Me_Generic_Tuple_With_Constraints<T, U>((T, U) tuple)\n",
    "    where U : IHaveLength\n",
    "{\n",
    "    var (x, y) = tuple;\n",
    "    return (x.ToString(), y.Length);\n",
    "}\n",
    "\n",
    "var x = Give_Me_Generic_Tuple_With_Constraints(\n",
    "    (3, new DataWithLength<string>(() => \"Hi!\".Length)));\n",
    "x"
   ]
  },
  {
   "cell_type": "markdown",
   "metadata": {},
   "source": [
    "### 5"
   ]
  },
  {
   "cell_type": "code",
   "execution_count": null,
   "metadata": {
    "dotnet_interactive": {
     "language": "csharp"
    },
    "polyglot_notebook": {
     "kernelName": "csharp"
    }
   },
   "outputs": [],
   "source": [
    "var amIaFunction = new Func<int>(() =>\n",
    "{\n",
    "    var x = 3 + 2;\n",
    "    var y = 3 * 2;\n",
    "    return x * y;\n",
    "}).Invoke();\n",
    "amIaFunction"
   ]
  },
  {
   "cell_type": "markdown",
   "metadata": {},
   "source": [
    "### 6"
   ]
  },
  {
   "cell_type": "code",
   "execution_count": null,
   "metadata": {
    "dotnet_interactive": {
     "language": "csharp"
    },
    "polyglot_notebook": {
     "kernelName": "csharp"
    }
   },
   "outputs": [],
   "source": [
    "int amIAfunctionQuestionMark()\n",
    "{\n",
    "    var x = 3 + 2;\n",
    "    var y = 3 * 2;\n",
    "    return x * y;\n",
    "}\n",
    "\n",
    "var x = amIAfunctionQuestionMark();\n",
    "x"
   ]
  },
  {
   "cell_type": "markdown",
   "metadata": {},
   "source": [
    "### Expressions rather than statements (vs C#)"
   ]
  },
  {
   "cell_type": "code",
   "execution_count": 2,
   "metadata": {
    "dotnet_interactive": {
     "language": "csharp"
    },
    "polyglot_notebook": {
     "kernelName": "csharp"
    }
   },
   "outputs": [
    {
     "name": "stdout",
     "output_type": "stream",
     "text": [
      "result=42\r\n"
     ]
    }
   ],
   "source": [
    "// statement-based code in C#\n",
    "int result;\n",
    "if (true)\n",
    "{\n",
    "  result = 42;\n",
    "}\n",
    "Console.WriteLine(\"result={0}\", result);"
   ]
  },
  {
   "cell_type": "code",
   "execution_count": 3,
   "metadata": {
    "dotnet_interactive": {
     "language": "csharp"
    },
    "polyglot_notebook": {
     "kernelName": "csharp"
    }
   },
   "outputs": [
    {
     "name": "stdout",
     "output_type": "stream",
     "text": [
      "result=42\r\n"
     ]
    }
   ],
   "source": [
    "// expression-based code in C#\n",
    "int result = true ? 42 : 0;\n",
    "Console.WriteLine(\"result={0}\", result);"
   ]
  },
  {
   "cell_type": "markdown",
   "metadata": {},
   "source": [
    "## Algebraic Types (vs C#)"
   ]
  },
  {
   "cell_type": "code",
   "execution_count": 7,
   "metadata": {
    "dotnet_interactive": {
     "language": "csharp"
    },
    "polyglot_notebook": {
     "kernelName": "csharp"
    }
   },
   "outputs": [
    {
     "ename": "Error",
     "evalue": "(11,19): error CS0738: 'IntChoice' does not implement interface member 'IIntOrBool.Value'. 'IntChoice.Value' cannot implement 'IIntOrBool.Value' because it does not have the matching return type of 'object'.\r\n(16,20): error CS0738: 'BoolChoice' does not implement interface member 'IIntOrBool.Value'. 'BoolChoice.Value' cannot implement 'IIntOrBool.Value' because it does not have the matching return type of 'object'.\r\n(21,1): error CS0305: Using the generic type 'IIntOrBool<T>' requires 1 type arguments\r\n(21,1): error CS0119: 'IIntOrBool<T>' is a type, which is not valid in the given context",
     "output_type": "error",
     "traceback": [
      "(11,19): error CS0738: 'IntChoice' does not implement interface member 'IIntOrBool.Value'. 'IntChoice.Value' cannot implement 'IIntOrBool.Value' because it does not have the matching return type of 'object'.\r\n",
      "(16,20): error CS0738: 'BoolChoice' does not implement interface member 'IIntOrBool.Value'. 'BoolChoice.Value' cannot implement 'IIntOrBool.Value' because it does not have the matching return type of 'object'.\r\n",
      "(21,1): error CS0305: Using the generic type 'IIntOrBool<T>' requires 1 type arguments\r\n",
      "(21,1): error CS0119: 'IIntOrBool<T>' is a type, which is not valid in the given context"
     ]
    }
   ],
   "source": [
    "interface IIntOrBool\n",
    "{\n",
    "    object Value { get; }\n",
    "}\n",
    "\n",
    "interface IIntOrBool<T> : IIntOrBool\n",
    "{\n",
    "    new T Value { get; init; }\n",
    "}\n",
    "\n",
    "class IntChoice : IIntOrBool<int>\n",
    "{\n",
    "    object IIntOrBool.Value => Value;\n",
    "    public required int Value { get; init; }\n",
    "}\n",
    "\n",
    "class BoolChoice : IIntOrBool<bool>\n",
    "{\n",
    "    object IIntOrBool.Value => Value;\n",
    "    public required bool Value { get; init; }\n",
    "}\n",
    "\n",
    "IIntOrBool<>"
   ]
  }
 ],
 "metadata": {
  "kernelspec": {
   "display_name": ".NET (F#)",
   "language": "F#",
   "name": ".net-fsharp"
  },
  "language_info": {
   "name": "polyglot-notebook"
  },
  "polyglot_notebook": {
   "kernelInfo": {
    "defaultKernelName": "fsharp",
    "items": [
     {
      "aliases": [],
      "languageName": "fsharp",
      "name": "fsharp"
     }
    ]
   }
  }
 },
 "nbformat": 4,
 "nbformat_minor": 2
}
