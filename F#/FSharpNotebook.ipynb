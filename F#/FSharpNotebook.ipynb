{
 "cells": [
  {
   "attachments": {},
   "cell_type": "markdown",
   "metadata": {},
   "source": [
    "# MEET THE F#"
   ]
  },
  {
   "attachments": {},
   "cell_type": "markdown",
   "metadata": {},
   "source": [
    "## First simple example"
   ]
  },
  {
   "cell_type": "code",
   "execution_count": null,
   "metadata": {
    "dotnet_interactive": {
     "language": "fsharp"
    },
    "polyglot_notebook": {
     "kernelName": "fsharp"
    }
   },
   "outputs": [],
   "source": [
    "open System\n",
    "\n",
    "let wordCount (text: string) =\n",
    "    let words = text.Split [|' '|]\n",
    "    let wordSet = Set.ofArray words\n",
    "    let nWords = words.Length\n",
    "    let nDups = words.Length - wordSet.Count\n",
    "    (nWords, nDups)\n",
    "\n",
    "let showWordCount text =\n",
    "    let nWords, nDups = wordCount text\n",
    "    printfn \"--> %d words in the text\" nWords\n",
    "    printfn \"--> %d duplicate words\" nDups\n",
    "\n",
    "showWordCount \"Lorem ipsum lorem not-ipsum and Lorem ipsum again...\""
   ]
  },
  {
   "attachments": {},
   "cell_type": "markdown",
   "metadata": {},
   "source": [
    "## Types"
   ]
  },
  {
   "cell_type": "code",
   "execution_count": null,
   "metadata": {
    "dotnet_interactive": {
     "language": "fsharp"
    },
    "polyglot_notebook": {
     "kernelName": "fsharp"
    }
   },
   "outputs": [],
   "source": [
    "let calculateSomething (calculate: float -> float -> int) : int =\n",
    "    calculate 3.1 0.9\n",
    "\n",
    "let x = calculateSomething (fun x y -> int (x + y))\n",
    "\n",
    "x"
   ]
  },
  {
   "cell_type": "code",
   "execution_count": null,
   "metadata": {
    "dotnet_interactive": {
     "language": "fsharp"
    },
    "polyglot_notebook": {
     "kernelName": "fsharp"
    }
   },
   "outputs": [],
   "source": [
    "let giveMeTuple (tuple: int * float) =\n",
    "    let x, y = tuple\n",
    "    x + int y\n",
    "\n",
    "giveMeTuple (1, 4.5)"
   ]
  },
  {
   "cell_type": "code",
   "execution_count": null,
   "metadata": {
    "dotnet_interactive": {
     "language": "fsharp"
    },
    "polyglot_notebook": {
     "kernelName": "fsharp"
    }
   },
   "outputs": [],
   "source": [
    "let giveMeGenericTuple<'a, 'b> (tuple: 'a * 'b) =\n",
    "    let x, y = tuple\n",
    "    (x.ToString(), y.ToString())\n",
    "\n",
    "giveMeGenericTuple (3, \"Hi!\")"
   ]
  },
  {
   "cell_type": "code",
   "execution_count": null,
   "metadata": {
    "dotnet_interactive": {
     "language": "fsharp"
    },
    "polyglot_notebook": {
     "kernelName": "fsharp"
    }
   },
   "outputs": [],
   "source": [
    "let inline ``give me generic tuple with constraints``<'a, 'b when 'b : (member Length : int)> (tuple: 'a * 'b) =\n",
    "    let x, y = tuple\n",
    "    (x.ToString(), y.Length)\n",
    "\n",
    "``give me generic tuple with constraints`` (3, \"Hi!\")"
   ]
  },
  {
   "cell_type": "code",
   "execution_count": null,
   "metadata": {
    "dotnet_interactive": {
     "language": "fsharp"
    },
    "polyglot_notebook": {
     "kernelName": "fsharp"
    }
   },
   "outputs": [],
   "source": [
    "let ``amIafunction?`` =\n",
    "    let x = 3 + 2\n",
    "    let y = 3 * 2\n",
    "    x * y\n",
    "\n",
    "``amIafunction?``"
   ]
  },
  {
   "cell_type": "code",
   "execution_count": null,
   "metadata": {
    "dotnet_interactive": {
     "language": "fsharp"
    },
    "polyglot_notebook": {
     "kernelName": "fsharp"
    }
   },
   "outputs": [],
   "source": [
    "let ``amIafunction?`` () =\n",
    "    let x = 3 + 2\n",
    "    let y = 3 * 2\n",
    "    x * y\n",
    "\n",
    "``amIafunction?``"
   ]
  },
  {
   "cell_type": "code",
   "execution_count": null,
   "metadata": {
    "dotnet_interactive": {
     "language": "csharp"
    },
    "polyglot_notebook": {
     "kernelName": "csharp"
    }
   },
   "outputs": [],
   "source": [
    "int Foo() => 3 + 3;\n",
    "\n",
    "Foo();"
   ]
  }
 ],
 "metadata": {
  "kernelspec": {
   "display_name": ".NET (F#)",
   "language": "F#",
   "name": ".net-fsharp"
  },
  "language_info": {
   "name": "polyglot-notebook"
  },
  "polyglot_notebook": {
   "kernelInfo": {
    "defaultKernelName": "fsharp",
    "items": [
     {
      "aliases": [],
      "languageName": "fsharp",
      "name": "fsharp"
     }
    ]
   }
  }
 },
 "nbformat": 4,
 "nbformat_minor": 2
}
