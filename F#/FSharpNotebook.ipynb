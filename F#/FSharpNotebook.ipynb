{
 "cells": [
  {
   "attachments": {},
   "cell_type": "markdown",
   "metadata": {},
   "source": [
    "# MEET THE F#"
   ]
  },
  {
   "attachments": {},
   "cell_type": "markdown",
   "metadata": {},
   "source": [
    "## Quick introduction to F#"
   ]
  },
  {
   "cell_type": "code",
   "execution_count": null,
   "metadata": {
    "dotnet_interactive": {
     "language": "fsharp"
    },
    "polyglot_notebook": {
     "kernelName": "fsharp"
    }
   },
   "outputs": [],
   "source": [
    "open System\n",
    "\n",
    "let wordCount (text: string) =\n",
    "    let words = text.Split [|' '|]\n",
    "    let wordSet = Set.ofArray words\n",
    "    let nWords = words.Length\n",
    "    let nDups = words.Length - wordSet.Count\n",
    "    (nWords, nDups)\n",
    "\n",
    "let showWordCount text =\n",
    "    let nWords, nDups = wordCount text\n",
    "    printfn \"--> %d words in the text\" nWords\n",
    "    printfn \"--> %d duplicate words\" nDups\n",
    "\n",
    "showWordCount \"Lorem ipsum lorem not-ipsum and Lorem ipsum again...\""
   ]
  },
  {
   "cell_type": "markdown",
   "metadata": {},
   "source": [
    "### 1"
   ]
  },
  {
   "cell_type": "code",
   "execution_count": null,
   "metadata": {
    "dotnet_interactive": {
     "language": "fsharp"
    },
    "polyglot_notebook": {
     "kernelName": "fsharp"
    }
   },
   "outputs": [],
   "source": [
    "let calculateSomething (calculate: float -> float -> int) : int =\n",
    "    calculate 3.1 0.9\n",
    "\n",
    "let x = calculateSomething (fun x y -> int (x + y))\n",
    "\n",
    "x"
   ]
  },
  {
   "cell_type": "markdown",
   "metadata": {},
   "source": [
    "### 2"
   ]
  },
  {
   "cell_type": "code",
   "execution_count": null,
   "metadata": {
    "dotnet_interactive": {
     "language": "fsharp"
    },
    "polyglot_notebook": {
     "kernelName": "fsharp"
    }
   },
   "outputs": [],
   "source": [
    "let giveMeTuple (tuple: int * float) =\n",
    "    let x, y = tuple\n",
    "    x + int y\n",
    "\n",
    "giveMeTuple (1, 4.5)"
   ]
  },
  {
   "cell_type": "markdown",
   "metadata": {},
   "source": [
    "### 3"
   ]
  },
  {
   "cell_type": "code",
   "execution_count": null,
   "metadata": {
    "dotnet_interactive": {
     "language": "fsharp"
    },
    "polyglot_notebook": {
     "kernelName": "fsharp"
    }
   },
   "outputs": [],
   "source": [
    "let giveMeGenericTuple<'a, 'b> (tuple: 'a * 'b) =\n",
    "    let x, y = tuple\n",
    "    (x.ToString(), y.ToString())\n",
    "\n",
    "giveMeGenericTuple (3, \"Hi!\")"
   ]
  },
  {
   "cell_type": "markdown",
   "metadata": {},
   "source": [
    "### 4"
   ]
  },
  {
   "cell_type": "code",
   "execution_count": null,
   "metadata": {
    "dotnet_interactive": {
     "language": "fsharp"
    },
    "polyglot_notebook": {
     "kernelName": "fsharp"
    }
   },
   "outputs": [],
   "source": [
    "let inline ``give me generic tuple with constraints``<'a, 'b when 'b : (member Length : int)> (tuple: 'a * 'b) =\n",
    "    let x, y = tuple\n",
    "    (x.ToString(), y.Length)\n",
    "\n",
    "``give me generic tuple with constraints`` (3, \"Hi!\")"
   ]
  },
  {
   "cell_type": "markdown",
   "metadata": {},
   "source": [
    "### 5"
   ]
  },
  {
   "cell_type": "code",
   "execution_count": null,
   "metadata": {
    "dotnet_interactive": {
     "language": "fsharp"
    },
    "polyglot_notebook": {
     "kernelName": "fsharp"
    }
   },
   "outputs": [],
   "source": [
    "let ``amIafunction?`` =\n",
    "    let x = 3 + 2\n",
    "    let y = 3 * 2\n",
    "    x * y\n",
    "\n",
    "``amIafunction?``"
   ]
  },
  {
   "cell_type": "markdown",
   "metadata": {},
   "source": [
    "### 6"
   ]
  },
  {
   "cell_type": "code",
   "execution_count": null,
   "metadata": {
    "dotnet_interactive": {
     "language": "fsharp"
    },
    "polyglot_notebook": {
     "kernelName": "fsharp"
    }
   },
   "outputs": [],
   "source": [
    "let ``amIafunction?`` () =\n",
    "    let x = 3 + 2\n",
    "    let y = 3 * 2\n",
    "    x * y\n",
    "\n",
    "``amIafunction?``"
   ]
  },
  {
   "cell_type": "markdown",
   "metadata": {},
   "source": [
    "### Loops and recursion\n",
    "\n",
    "#### For loop"
   ]
  },
  {
   "cell_type": "code",
   "execution_count": null,
   "metadata": {
    "dotnet_interactive": {
     "language": "fsharp"
    },
    "polyglot_notebook": {
     "kernelName": "fsharp"
    }
   },
   "outputs": [],
   "source": [
    "for i in 1..10 do\n",
    "    printfn \"F#: %d\" i"
   ]
  },
  {
   "cell_type": "markdown",
   "metadata": {},
   "source": [
    "#### While loop"
   ]
  },
  {
   "cell_type": "code",
   "execution_count": null,
   "metadata": {
    "dotnet_interactive": {
     "language": "fsharp"
    },
    "polyglot_notebook": {
     "kernelName": "fsharp"
    }
   },
   "outputs": [],
   "source": [
    "let mutable i = 1\n",
    "while i <= 10 do\n",
    "    printfn \"F#: %d\" i\n",
    "    i <- i + 1"
   ]
  },
  {
   "cell_type": "markdown",
   "metadata": {},
   "source": [
    "#### For-each loop"
   ]
  },
  {
   "cell_type": "code",
   "execution_count": null,
   "metadata": {
    "dotnet_interactive": {
     "language": "fsharp"
    },
    "polyglot_notebook": {
     "kernelName": "fsharp"
    }
   },
   "outputs": [],
   "source": [
    "let numbers = [1; 2; 3; 4; 5]\n",
    "for number in numbers do\n",
    "    printfn \"F#: %d\" number"
   ]
  },
  {
   "cell_type": "markdown",
   "metadata": {},
   "source": [
    "#### Recursion (and also if statement)"
   ]
  },
  {
   "cell_type": "code",
   "execution_count": null,
   "metadata": {
    "dotnet_interactive": {
     "language": "fsharp"
    },
    "polyglot_notebook": {
     "kernelName": "fsharp"
    }
   },
   "outputs": [],
   "source": [
    "let rec loop i max =\n",
    "    if i <= max then\n",
    "        printfn \"F#: %d\" i\n",
    "        loop (i + 1) max\n",
    "    elif i > max then\n",
    "        printfn \"This is the end...\"\n",
    "    else\n",
    "        printfn \"How did you end up here?\"\n",
    "\n",
    "loop 3 7"
   ]
  },
  {
   "cell_type": "markdown",
   "metadata": {},
   "source": [
    "## Let's get more functional!"
   ]
  },
  {
   "cell_type": "code",
   "execution_count": null,
   "metadata": {
    "dotnet_interactive": {
     "language": "fsharp"
    },
    "polyglot_notebook": {
     "kernelName": "fsharp"
    }
   },
   "outputs": [],
   "source": [
    "let squareF x = x * x\n",
    "\n",
    "let sumOfSquaresF n =\n",
    "   [1.0 .. n] |> List.map squareF |> List.sum\n",
    "\n",
    "sumOfSquaresF 100.0"
   ]
  },
  {
   "cell_type": "markdown",
   "metadata": {},
   "source": [
    "### Pattern matching"
   ]
  },
  {
   "cell_type": "code",
   "execution_count": null,
   "metadata": {
    "dotnet_interactive": {
     "language": "fsharp"
    },
    "polyglot_notebook": {
     "kernelName": "fsharp"
    }
   },
   "outputs": [],
   "source": [
    "let whatAmI data =\n",
    "    match data with\n",
    "    | [] -> printfn \"Empty list!\"\n",
    "    | firstElement::otherElements -> \n",
    "        printfn \"first element = %A, other elements = %A\" firstElement otherElements\n",
    "\n",
    "let whatRangeAmIIn x =\n",
    "    match x with\n",
    "    | x when x > 10 && x < 20 -> printfn \"I am between 10 and 20\"\n",
    "    | _ -> printfn \"I don't know, sorry :(\"\n",
    "\n",
    "whatAmI []\n",
    "whatAmI [ 1; 2; 3; 4; 5 ]\n",
    "\n",
    "printfn \"\"\n",
    "\n",
    "whatRangeAmIIn 19\n",
    "whatRangeAmIIn 9"
   ]
  },
  {
   "cell_type": "markdown",
   "metadata": {},
   "source": [
    "## Four Key Concepts"
   ]
  },
  {
   "cell_type": "code",
   "execution_count": 14,
   "metadata": {
    "dotnet_interactive": {
     "language": "fsharp"
    },
    "polyglot_notebook": {
     "kernelName": "fsharp"
    }
   },
   "outputs": [],
   "source": [
    "let square x = x * x\n",
    "\n",
    "// functions as values\n",
    "let squareclone = square\n",
    "let result = [1..10] |> List.map squareclone\n",
    "\n",
    "// functions taking other functions as parameters\n",
    "let execFunction aFunc aParam = aFunc aParam\n",
    "let result2 = execFunction square 12"
   ]
  },
  {
   "cell_type": "markdown",
   "metadata": {},
   "source": [
    "But C# has first-class functions too, so what’s so special about functional programming?\n",
    "\n",
    "The short answer is that the function-oriented nature of F# infiltrates every part of the language and type system in a way that it does not in C#, so that things that are awkward or clumsy in C# are very elegant in F#."
   ]
  },
  {
   "cell_type": "markdown",
   "metadata": {},
   "source": [
    "### Expressions rather than statements (see vs C#)"
   ]
  },
  {
   "cell_type": "markdown",
   "metadata": {},
   "source": [
    "- What initial value should result be set to?\n",
    "- What if I forget to assign to the result variable?\n",
    "- What is the value of the result variable in the “else” case?"
   ]
  },
  {
   "cell_type": "markdown",
   "metadata": {},
   "source": [
    "- The result variable is declared at the same time that it is assigned. No variables have to be set up “outside” the expression and there is no worry about what initial value they should be set to.\n",
    "- The “else” is explicitly handled. There is no chance of forgetting to do an assignment in one of the branches.\n",
    "- It is not possible to forget to assign result, because then the variable would not even exist!"
   ]
  },
  {
   "cell_type": "markdown",
   "metadata": {},
   "source": [
    "### Algebraic Types"
   ]
  },
  {
   "cell_type": "markdown",
   "metadata": {},
   "source": [
    "It's a way of building types by combining existing types in two different ways:\n",
    "- First, a combination of values, each picked from a set of types. These are called “product” types.\n",
    "- Or, alternately, as a disjoint union representing a choice between a set of types. These are called “sum” types."
   ]
  },
  {
   "cell_type": "code",
   "execution_count": 16,
   "metadata": {
    "dotnet_interactive": {
     "language": "fsharp"
    },
    "polyglot_notebook": {
     "kernelName": "fsharp"
    }
   },
   "outputs": [],
   "source": [
    "//declare it\n",
    "type IntAndBool = {intPart: int; boolPart: bool}\n",
    "\n",
    "//use it\n",
    "let x = {intPart=1; boolPart=false}"
   ]
  },
  {
   "cell_type": "code",
   "execution_count": 19,
   "metadata": {
    "dotnet_interactive": {
     "language": "fsharp"
    },
    "polyglot_notebook": {
     "kernelName": "fsharp"
    }
   },
   "outputs": [
    {
     "data": {
      "text/html": [
       "<details open=\"open\" class=\"dni-treeview\"><summary><span class=\"dni-code-hint\"><code>(IntChoice 42, BoolChoice true)</code></span></summary><div><table><thead><tr></tr></thead><tbody><tr><td>Item1</td><td><details class=\"dni-treeview\"><summary><span class=\"dni-code-hint\"><code>IntChoice 42</code></span></summary><div><table><thead><tr></tr></thead><tbody><tr><td>Item</td><td><div class=\"dni-plaintext\"><pre>42</pre></div></td></tr></tbody></table></div></details></td></tr><tr><td>Item2</td><td><details class=\"dni-treeview\"><summary><span class=\"dni-code-hint\"><code>BoolChoice true</code></span></summary><div><table><thead><tr></tr></thead><tbody><tr><td>Item</td><td><div class=\"dni-plaintext\"><pre>True</pre></div></td></tr></tbody></table></div></details></td></tr></tbody></table></div></details><style>\r\n",
       ".dni-code-hint {\r\n",
       "    font-style: italic;\r\n",
       "    overflow: hidden;\r\n",
       "    white-space: nowrap;\r\n",
       "}\r\n",
       ".dni-treeview {\r\n",
       "    white-space: nowrap;\r\n",
       "}\r\n",
       ".dni-treeview td {\r\n",
       "    vertical-align: top;\r\n",
       "    text-align: start;\r\n",
       "}\r\n",
       "details.dni-treeview {\r\n",
       "    padding-left: 1em;\r\n",
       "}\r\n",
       "table td {\r\n",
       "    text-align: start;\r\n",
       "}\r\n",
       "table tr { \r\n",
       "    vertical-align: top; \r\n",
       "    margin: 0em 0px;\r\n",
       "}\r\n",
       "table tr td pre \r\n",
       "{ \r\n",
       "    vertical-align: top !important; \r\n",
       "    margin: 0em 0px !important;\r\n",
       "} \r\n",
       "table th {\r\n",
       "    text-align: start;\r\n",
       "}\r\n",
       "</style>"
      ]
     },
     "metadata": {},
     "output_type": "display_data"
    }
   ],
   "source": [
    "//declare it\n",
    "type IntOrBool =\n",
    "  | IntChoice of int\n",
    "  | BoolChoice of bool\n",
    "\n",
    "//use it\n",
    "let y = IntChoice 42\n",
    "let z = BoolChoice true\n",
    "\n",
    "y, z"
   ]
  },
  {
   "cell_type": "markdown",
   "metadata": {},
   "source": [
    "## Pattern matching (but now with union types)"
   ]
  },
  {
   "cell_type": "code",
   "execution_count": 20,
   "metadata": {
    "dotnet_interactive": {
     "language": "fsharp"
    },
    "polyglot_notebook": {
     "kernelName": "fsharp"
    }
   },
   "outputs": [
    {
     "name": "stdout",
     "output_type": "stream",
     "text": [
      "The circle has a radius of 10\n",
      "The rectangle is 4 high by 5 wide\n",
      "The polygon is made of these points [(1, 1); (2, 2); (3, 3)]\n",
      "I don't recognize this shape\n"
     ]
    }
   ],
   "source": [
    "type Shape =        // define a \"union\" of alternative structures\n",
    "    | Circle of radius:int\n",
    "    | Rectangle of height:int * width:int\n",
    "    | Point of x:int * y:int\n",
    "    | Polygon of pointList:(int * int) list\n",
    "\n",
    "let draw shape =    // define a function \"draw\" with a shape param\n",
    "  match shape with\n",
    "  | Circle radius ->\n",
    "      printfn \"The circle has a radius of %d\" radius\n",
    "  | Rectangle (height,width) ->\n",
    "      printfn \"The rectangle is %d high by %d wide\" height width\n",
    "  | Polygon points ->\n",
    "      printfn \"The polygon is made of these points %A\" points\n",
    "  | _ -> printfn \"I don't recognize this shape\"\n",
    "\n",
    "let circle = Circle(10)\n",
    "let rect = Rectangle(4,5)\n",
    "let point = Point(2,3)\n",
    "let polygon = Polygon([(1,1); (2,2); (3,3)])\n",
    "\n",
    "[circle; rect; polygon; point] |> List.iter draw"
   ]
  },
  {
   "cell_type": "markdown",
   "metadata": {},
   "source": [
    "You might be wondering if this kind of pattern matching is a good idea? In an object-oriented design, checking for a particular class is an anti-pattern because you should only care about behavior, not about the class that implements it.\n",
    "\n",
    "But in a pure functional design there are no objects and no behavior. There are functions and there are “dumb” data types. Data types do not have any behavior associated with them, and functions do not contain data – they just transform data types into other data types."
   ]
  },
  {
   "cell_type": "markdown",
   "metadata": {},
   "source": [
    "## Be not afraid of creating types!"
   ]
  },
  {
   "cell_type": "code",
   "execution_count": 21,
   "metadata": {
    "dotnet_interactive": {
     "language": "fsharp"
    },
    "polyglot_notebook": {
     "kernelName": "fsharp"
    }
   },
   "outputs": [],
   "source": [
    "open System\n",
    "\n",
    "// some \"record\" types\n",
    "type Person = {FirstName:string; LastName:string; Dob:DateTime}\n",
    "type Coord = {Lat:float; Long:float}\n",
    "\n",
    "// some \"union\" (choice) types\n",
    "type TimePeriod = Hour | Day | Week | Year\n",
    "type Temperature = C of int | F of int\n",
    "type Appointment =\n",
    "  OneTime of DateTime | Recurring of DateTime list"
   ]
  },
  {
   "cell_type": "code",
   "execution_count": 23,
   "metadata": {
    "dotnet_interactive": {
     "language": "fsharp"
    },
    "polyglot_notebook": {
     "kernelName": "fsharp"
    }
   },
   "outputs": [],
   "source": [
    "type CustomerType  = Prospect | Active | Inactive\n",
    "\n",
    "// override equality and deny comparison\n",
    "[<CustomEquality; NoComparison>]\n",
    "type CustomerAccount ={\n",
    "  CustomerAccountId: int;\n",
    "  CustomerType: CustomerType;\n",
    "  ContactInfo: string;\n",
    "}\n",
    "\n",
    "  override this.Equals(other) =\n",
    "    match other with\n",
    "    | :? CustomerAccount as otherCust ->\n",
    "      (this.CustomerAccountId = otherCust.CustomerAccountId)\n",
    "    | _ -> false\n",
    "\n",
    "  override this.GetHashCode() = hash this.CustomerAccountId"
   ]
  }
 ],
 "metadata": {
  "kernelspec": {
   "display_name": ".NET (F#)",
   "language": "F#",
   "name": ".net-fsharp"
  },
  "language_info": {
   "name": "polyglot-notebook"
  },
  "polyglot_notebook": {
   "kernelInfo": {
    "defaultKernelName": "fsharp",
    "items": [
     {
      "aliases": [],
      "languageName": "fsharp",
      "name": "fsharp"
     }
    ]
   }
  }
 },
 "nbformat": 4,
 "nbformat_minor": 2
}
