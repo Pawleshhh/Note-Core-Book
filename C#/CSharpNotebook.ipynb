{
 "cells": [
  {
   "attachments": {},
   "cell_type": "markdown",
   "metadata": {},
   "source": [
    "# MEET THE NET\n",
    "### Pattern matching"
   ]
  },
  {
   "cell_type": "code",
   "execution_count": 23,
   "metadata": {
    "dotnet_interactive": {
     "language": "csharp"
    },
    "polyglot_notebook": {
     "kernelName": "csharp"
    }
   },
   "outputs": [
    {
     "name": "stdout",
     "output_type": "stream",
     "text": [
      "StartSystem\r\n"
     ]
    }
   ],
   "source": [
    "using System.Runtime.CompilerServices;\n",
    "\n",
    "enum Operation { SystemTest, Start, Stop, Reset }\n",
    "class State \n",
    "{ \n",
    "    public static State CreateState([CallerMemberName]string message = \"\") \n",
    "    { \n",
    "        Console.WriteLine(message);\n",
    "        return new State();\n",
    "    }\n",
    "}\n",
    "\n",
    "State PerformOperation(Operation command) =>\n",
    "   command switch\n",
    "   {\n",
    "       Operation.SystemTest => RunDiagnostics(),\n",
    "       Operation.Start => StartSystem(),\n",
    "       Operation.Stop => StopSystem(),\n",
    "       Operation.Reset => ResetToReady(),\n",
    "       _ => throw new ArgumentException(\"Invalid enum value for command\", nameof(command)),\n",
    "   };\n",
    "\n",
    "State PerformOperation(string command) =>\n",
    "   command switch\n",
    "   {\n",
    "       \"SystemTest\" => RunDiagnostics(),\n",
    "       \"Start\" => StartSystem(),\n",
    "       \"Stop\" => StopSystem(),\n",
    "       \"Reset\" => ResetToReady(),\n",
    "       _ => throw new ArgumentException(\"Invalid string value for command\", nameof(command)),\n",
    "   };\n",
    "\n",
    "State PerformOperation(string command, int seconds) =>\n",
    "   command switch\n",
    "   {\n",
    "       \"SystemTest\" when seconds < 10 => RunDiagnostics(),\n",
    "       \"Start\" when seconds >= 10 && seconds <= 20 => StartSystem(),\n",
    "       \"Stop\" => StopSystem(),\n",
    "       \"Reset\" => ResetToReady(),\n",
    "       _ => throw new ArgumentException(\"Invalid string value for command\", nameof(command)),\n",
    "   };\n",
    "\n",
    "State RunDiagnostics() => State.CreateState();\n",
    "State StartSystem() => State.CreateState();\n",
    "State StopSystem() => State.CreateState();\n",
    "State ResetToReady() => State.CreateState();\n",
    "\n",
    "PerformOperation(\"Start\");"
   ]
  },
  {
   "cell_type": "code",
   "execution_count": 24,
   "metadata": {
    "dotnet_interactive": {
     "language": "csharp"
    },
    "polyglot_notebook": {
     "kernelName": "csharp"
    }
   },
   "outputs": [
    {
     "name": "stdout",
     "output_type": "stream",
     "text": [
      "solid\n",
      "solid\n"
     ]
    }
   ],
   "source": [
    "string WaterState(int tempInFahrenheit) =>\n",
    "    tempInFahrenheit switch\n",
    "    {\n",
    "        (> 32) and (< 212) => \"liquid\",\n",
    "        < 32 => \"solid\",\n",
    "        > 212 => \"gas\",\n",
    "        32 => \"solid/liquid transition\",\n",
    "        212 => \"liquid / gas transition\",\n",
    "    };\n",
    "\n",
    "string WaterState2(int tempInFahrenheit) =>\n",
    "    tempInFahrenheit switch\n",
    "    {\n",
    "        < 32 => \"solid\",\n",
    "        32 => \"solid/liquid transition\",\n",
    "        < 212 => \"liquid\",\n",
    "        212 => \"liquid / gas transition\",\n",
    "        _ => \"gas\",\n",
    "};\n",
    "\n",
    "Console.WriteLine(WaterState(10));\n",
    "Console.WriteLine(WaterState2(10));"
   ]
  },
  {
   "cell_type": "code",
   "execution_count": 25,
   "metadata": {
    "dotnet_interactive": {
     "language": "csharp"
    },
    "polyglot_notebook": {
     "kernelName": "csharp"
    }
   },
   "outputs": [
    {
     "name": "stdout",
     "output_type": "stream",
     "text": [
      "20\n",
      "20\n"
     ]
    }
   ],
   "source": [
    "class Order\n",
    "{\n",
    "    public int Items { get; set; }\n",
    "    public decimal Cost { get; set; }\n",
    "\n",
    "    public void Deconstruct(out int items, out decimal cost)\n",
    "    {\n",
    "        items = Items;\n",
    "        cost = Cost;\n",
    "    }\n",
    "}\n",
    "\n",
    "decimal CalculateDiscount(Order order) =>\n",
    "    order switch\n",
    "    {\n",
    "        { Items: > 10, Cost: > 1000.00m } => 0.10m,\n",
    "        { Items: > 5, Cost: > 500.00m } => 0.05m,\n",
    "        { Cost: > 250.00m } => 0.02m,\n",
    "        null => throw new ArgumentNullException(nameof(order), \"Can't calculate discount on null order\"),\n",
    "        var someObject => someObject.Cost,\n",
    "    };\n",
    "\n",
    "decimal CalculateDiscount2(Order order) =>\n",
    "    order switch\n",
    "    {\n",
    "        ( > 10,  > 1000.00m) => 0.10m,\n",
    "        ( > 5, > 50.00m) => 0.05m,\n",
    "        { Cost: > 250.00m } => 0.02m,\n",
    "        null => throw new ArgumentNullException(nameof(order), \"Can't calculate discount on null order\"),\n",
    "        var someObject => someObject.Cost,\n",
    "    };\n",
    "\n",
    "Console.WriteLine(CalculateDiscount(new Order { Items = 10, Cost = 20m }));\n",
    "Console.WriteLine(CalculateDiscount2(new Order { Items = 10, Cost = 20m }));"
   ]
  },
  {
   "cell_type": "code",
   "execution_count": 26,
   "metadata": {
    "dotnet_interactive": {
     "language": "csharp"
    },
    "polyglot_notebook": {
     "kernelName": "csharp"
    }
   },
   "outputs": [
    {
     "name": "stdout",
     "output_type": "stream",
     "text": [
      "Record: 04-01-2020, DEPOSIT, Initial deposit, 2250.00, New balance: 2 250,00 zł\n",
      "Record: 04-15-2020, DEPOSIT, Refund, 125.65, New balance: 2 375,65 zł\n",
      "Record: 04-18-2020, DEPOSIT, Paycheck, 825.65, New balance: 3 201,30 zł\n",
      "Record: 04-22-2020, WITHDRAWAL, Debit, Groceries, 255.73, New balance: 2 945,57 zł\n",
      "Record: 05-01-2020, WITHDRAWAL, #1102, Rent, apt, 2100.00, New balance: 845,57 zł\n",
      "Record: 05-02-2020, INTEREST, 0.65, New balance: 846,22 zł\n",
      "Record: 05-07-2020, WITHDRAWAL, Debit, Movies, 12.57, New balance: 833,65 zł\n",
      "Record: 04-15-2020, FEE, 5.55, New balance: 828,10 zł\n"
     ]
    }
   ],
   "source": [
    "using System.Globalization;\n",
    "\n",
    "List<string[]> stringList = new List<string[]>()\n",
    "{\n",
    "    new string[] { \"04-01-2020\", \"DEPOSIT\"   , \"Initial deposit\",                     \"2250.00\" },\n",
    "    new string[] { \"04-15-2020\", \"DEPOSIT\"   , \"Refund\"         ,                     \"125.65\"  },\n",
    "    new string[] { \"04-18-2020\", \"DEPOSIT\"   , \"Paycheck\"       ,                     \"825.65\"  },\n",
    "    new string[] { \"04-22-2020\", \"WITHDRAWAL\", \"Debit\"          , \"Groceries\",        \"255.73\"  },\n",
    "    new string[] { \"05-01-2020\", \"WITHDRAWAL\", \"#1102\"          , \"Rent\"     , \"apt\", \"2100.00\" },\n",
    "    new string[] { \"05-02-2020\", \"INTEREST\"  ,                                        \"0.65\"    },\n",
    "    new string[] { \"05-07-2020\", \"WITHDRAWAL\", \"Debit\"          , \"Movies\"   ,        \"12.57\"   },\n",
    "    new string[] { \"04-15-2020\", \"FEE\"       ,                                        \"5.55\"    },\n",
    "};\n",
    "\n",
    "decimal balance = 0m;\n",
    "foreach (string[] transaction in stringList)\n",
    "{\n",
    "    balance += transaction switch\n",
    "    {\n",
    "        [_, \"DEPOSIT\"   , _ , var amount] => decimal.Parse(amount, CultureInfo.InvariantCulture),\n",
    "        [_, \"WITHDRAWAL\", .., var amount] => -decimal.Parse(amount, CultureInfo.InvariantCulture),\n",
    "        [_, \"INTEREST\"  ,     var amount] => decimal.Parse(amount, CultureInfo.InvariantCulture),\n",
    "        [_, \"FEE\"       ,     var fee]    => -decimal.Parse(fee, CultureInfo.InvariantCulture),\n",
    "        _                                 => throw new InvalidOperationException($\"Record {string.Join(\", \", transaction)} is not in the expected format!\"),\n",
    "    };\n",
    "    Console.WriteLine($\"Record: {string.Join(\", \", transaction)}, New balance: {balance:C}\");\n",
    "}"
   ]
  },
  {
   "cell_type": "code",
   "execution_count": 27,
   "metadata": {
    "dotnet_interactive": {
     "language": "csharp"
    },
    "polyglot_notebook": {
     "kernelName": "csharp"
    }
   },
   "outputs": [],
   "source": [
    "public static bool IsLetter(this char c) =>\n",
    "    c is >= 'a' and <= 'z' or >= 'A' and <= 'Z';\n",
    "\n",
    "public static bool IsLetterOrSeparator(this char c) =>\n",
    "    c is (>= 'a' and <= 'z') or (>= 'A' and <= 'Z') or '.' or ',';"
   ]
  },
  {
   "attachments": {},
   "cell_type": "markdown",
   "metadata": {},
   "source": [
    "### Ref locals"
   ]
  },
  {
   "cell_type": "code",
   "execution_count": 28,
   "metadata": {
    "dotnet_interactive": {
     "language": "csharp"
    },
    "polyglot_notebook": {
     "kernelName": "csharp"
    }
   },
   "outputs": [
    {
     "name": "stdout",
     "output_type": "stream",
     "text": [
      "Original sequence: 1 3 7 15 31 63 127 255 511 1023\n",
      "New sequence:      1 3 7 15 62 63 127 255 511 1023\n"
     ]
    }
   ],
   "source": [
    "class NumberStore\n",
    "{\n",
    "    int[] numbers = { 1, 3, 7, 15, 31, 63, 127, 255, 511, 1023 };\n",
    "\n",
    "    public ref int FindNumber(int target)\n",
    "    {\n",
    "        for (int ctr = 0; ctr < numbers.Length; ctr++)\n",
    "        {\n",
    "            if (numbers[ctr] >= target)\n",
    "                return ref numbers[ctr];\n",
    "        }\n",
    "        return ref numbers[0];\n",
    "    }\n",
    "\n",
    "    public override string ToString() => string.Join(\" \", numbers);\n",
    "}\n",
    "\n",
    "static void NumberStoreTest()\n",
    "{\n",
    "    var store = new NumberStore();\n",
    "    Console.WriteLine($\"Original sequence: {store.ToString()}\");\n",
    "    int number = 16;\n",
    "    ref var value = ref store.FindNumber(number);\n",
    "    value *= 2;\n",
    "    Console.WriteLine($\"New sequence:      {store.ToString()}\");\n",
    "}\n",
    "\n",
    "NumberStoreTest();"
   ]
  },
  {
   "attachments": {},
   "cell_type": "markdown",
   "metadata": {},
   "source": [
    "## Deconstructors"
   ]
  },
  {
   "cell_type": "code",
   "execution_count": null,
   "metadata": {
    "dotnet_interactive": {
     "language": "csharp"
    },
    "polyglot_notebook": {
     "kernelName": "csharp"
    }
   },
   "outputs": [],
   "source": [
    "class Sideable<T>\n",
    "{\n",
    "    public T Right { get; set; }\n",
    "    public T Left { get; set; }\n",
    "\n",
    "    public void Deconstruct(out T left, out T right)\n",
    "    {\n",
    "        left = Left;\n",
    "        right = Right;\n",
    "    }\n",
    "}\n",
    "\n",
    "var serialNumbers = new Sideable<string>\n",
    "{\n",
    "    Right = \"123\",\n",
    "    Left  = \"321\"\n",
    "};\n",
    "\n",
    "var (leftSn, rightSn) = serialNumbers;\n",
    "Console.WriteLine($\"{leftSn}, {rightSn}\");"
   ]
  },
  {
   "cell_type": "code",
   "execution_count": 29,
   "metadata": {
    "dotnet_interactive": {
     "language": "csharp"
    },
    "polyglot_notebook": {
     "kernelName": "csharp"
    }
   },
   "outputs": [
    {
     "name": "stdout",
     "output_type": "stream",
     "text": [
      "2023, 2, 16\r\n"
     ]
    }
   ],
   "source": [
    "public static void Deconstruct(this DateTime dateTime, out int year, out int month, out int day)\n",
    "{\n",
    "    year = dateTime.Year;\n",
    "    month = dateTime.Month;\n",
    "    day = dateTime.Day;\n",
    "}\n",
    "\n",
    "var dateTime = new DateTime(2023, 02, 16);\n",
    "var (y, m, d) = dateTime;\n",
    "Console.WriteLine($\"{y}, {m}, {d}\");"
   ]
  },
  {
   "attachments": {},
   "cell_type": "markdown",
   "metadata": {},
   "source": [
    "### Readonly struct"
   ]
  },
  {
   "cell_type": "code",
   "execution_count": null,
   "metadata": {
    "dotnet_interactive": {
     "language": "csharp"
    },
    "polyglot_notebook": {
     "kernelName": "csharp"
    }
   },
   "outputs": [],
   "source": [
    "readonly struct Point\n",
    "{\n",
    "    public readonly double X;\n",
    "    public readonly double Y;\n",
    "\n",
    "    public double Z { get; }\n",
    "}"
   ]
  },
  {
   "attachments": {},
   "cell_type": "markdown",
   "metadata": {},
   "source": [
    "### Readonly instance members"
   ]
  },
  {
   "cell_type": "code",
   "execution_count": 41,
   "metadata": {
    "dotnet_interactive": {
     "language": "csharp"
    },
    "polyglot_notebook": {
     "kernelName": "csharp"
    }
   },
   "outputs": [
    {
     "ename": "Error",
     "evalue": "(11,28): error CS0106: The modifier 'readonly' is not valid for this item\r\n(17,28): error CS0106: The modifier 'readonly' is not valid for this item",
     "output_type": "error",
     "traceback": [
      "(11,28): error CS0106: The modifier 'readonly' is not valid for this item\r\n",
      "(17,28): error CS0106: The modifier 'readonly' is not valid for this item"
     ]
    }
   ],
   "source": [
    "class Point\n",
    "{\n",
    "    public double X;\n",
    "    public double Y;\n",
    "\n",
    "    public readonly double DoSomeStuff()\n",
    "    {\n",
    "        Foo();\n",
    "        return X + Y;\n",
    "    }\n",
    "\n",
    "    public readonly double Foo()\n",
    "    {\n",
    "        //X = X * 2;\n",
    "        return 3.0;\n",
    "    }\n",
    "}"
   ]
  },
  {
   "attachments": {},
   "cell_type": "markdown",
   "metadata": {},
   "source": [
    "## Nullable reference types (Nullable context)"
   ]
  },
  {
   "cell_type": "code",
   "execution_count": null,
   "metadata": {
    "dotnet_interactive": {
     "language": "csharp"
    },
    "polyglot_notebook": {
     "kernelName": "csharp"
    }
   },
   "outputs": [],
   "source": [
    "#nullable enable\n",
    "\n",
    "class Bottle \n",
    "{ \n",
    "    public double Price { get; set; }\n",
    "\n",
    "    public string Label { get; set; }\n",
    "}\n",
    "\n",
    "Bottle? b = new Bottle { Label = null };"
   ]
  },
  {
   "cell_type": "code",
   "execution_count": 42,
   "metadata": {
    "dotnet_interactive": {
     "language": "csharp"
    },
    "polyglot_notebook": {
     "kernelName": "csharp"
    }
   },
   "outputs": [],
   "source": [
    "#nullable enable\n",
    "\n",
    "class MultiPack\n",
    "{\n",
    "    public List<Bottle>? Bottles { get; set; }\n",
    "\n",
    "}\n",
    "\n",
    "double PriceOfMultiPack(MultiPack? multiPack)\n",
    "{\n",
    "    double sum = 0.0;\n",
    "    foreach(var bottle in multiPack!.Bottles!)\n",
    "    {\n",
    "        sum += bottle.Price;\n",
    "    }\n",
    "\n",
    "    return sum;\n",
    "}\n"
   ]
  },
  {
   "attachments": {},
   "cell_type": "markdown",
   "metadata": {},
   "source": [
    "### Init only setters"
   ]
  },
  {
   "cell_type": "code",
   "execution_count": null,
   "metadata": {
    "dotnet_interactive": {
     "language": "csharp"
    },
    "polyglot_notebook": {
     "kernelName": "csharp"
    }
   },
   "outputs": [],
   "source": [
    "public struct WeatherObservation\n",
    "{\n",
    "    // we can add required keyword\n",
    "    public required DateTime RecordedAt { get; init; }\n",
    "    public decimal TemperatureInCelsius { get; init; }\n",
    "    public decimal PressureInMillibars { get; init; }\n",
    "\n",
    "    public override string ToString() =>\n",
    "        $\"At {RecordedAt:h:mm tt} on {RecordedAt:M/d/yyyy}: \" +\n",
    "        $\"Temp = {TemperatureInCelsius}, with {PressureInMillibars} pressure\";\n",
    "}\n",
    "\n",
    "var now = new WeatherObservation \n",
    "{ \n",
    "    RecordedAt = DateTime.Now, \n",
    "    TemperatureInCelsius = 20, \n",
    "    PressureInMillibars = 998.0m \n",
    "};\n",
    "\n",
    "//now.TemperatureInCelsius = 18;"
   ]
  },
  {
   "attachments": {},
   "cell_type": "markdown",
   "metadata": {},
   "source": [
    "### Record types\n",
    "\n",
    "#### Kotlin example\n",
    "```kotlin\n",
    "data class User(val name: String, val age: Int)\n",
    "```"
   ]
  },
  {
   "cell_type": "code",
   "execution_count": 44,
   "metadata": {
    "dotnet_interactive": {
     "language": "csharp"
    },
    "polyglot_notebook": {
     "kernelName": "csharp"
    }
   },
   "outputs": [
    {
     "name": "stdout",
     "output_type": "stream",
     "text": [
      "MT, WP\r\n"
     ]
    }
   ],
   "source": [
    "public record SmallPerson(string FirstName, string LastName);\n",
    "\n",
    "public record BigPerson\n",
    "{\n",
    "    public string FirstName { get; init; } = default!;\n",
    "    public string LastName { get; init; } = default!;\n",
    "}\n",
    "\n",
    "var person = new SmallPerson(\"MT\", \"WP\");\n",
    "var (first, last) = person;\n",
    "(string f, _) = person;\n",
    "Console.WriteLine($\"{first}, {last}\");"
   ]
  },
  {
   "cell_type": "code",
   "execution_count": 43,
   "metadata": {
    "dotnet_interactive": {
     "language": "csharp"
    },
    "polyglot_notebook": {
     "kernelName": "csharp"
    }
   },
   "outputs": [
    {
     "data": {
      "text/html": [
       "<table><thead><tr><th>FirstName</th><th>LastName</th></tr></thead><tbody><tr><td><div class=\"dni-plaintext\"><pre>MT</pre></div></td><td><div class=\"dni-plaintext\"><pre>ZP</pre></div></td></tr></tbody></table><style>\r\n",
       ".dni-code-hint {\r\n",
       "    font-style: italic;\r\n",
       "    overflow: hidden;\r\n",
       "    white-space: nowrap;\r\n",
       "}\r\n",
       ".dni-treeview {\r\n",
       "    white-space: nowrap;\r\n",
       "}\r\n",
       ".dni-treeview td {\r\n",
       "    vertical-align: top;\r\n",
       "    text-align: start;\r\n",
       "}\r\n",
       "details.dni-treeview {\r\n",
       "    padding-left: 1em;\r\n",
       "}\r\n",
       "table td {\r\n",
       "    text-align: start;\r\n",
       "}\r\n",
       "table tr { \r\n",
       "    vertical-align: top; \r\n",
       "    margin: 0em 0px;\r\n",
       "}\r\n",
       "table tr td pre \r\n",
       "{ \r\n",
       "    vertical-align: top !important; \r\n",
       "    margin: 0em 0px !important;\r\n",
       "} \r\n",
       "table th {\r\n",
       "    text-align: start;\r\n",
       "}\r\n",
       "</style>"
      ]
     },
     "metadata": {},
     "output_type": "display_data"
    }
   ],
   "source": [
    "var person2 = person with { LastName = \"ZP\" };\n",
    "person2"
   ]
  },
  {
   "cell_type": "code",
   "execution_count": null,
   "metadata": {
    "dotnet_interactive": {
     "language": "csharp"
    },
    "polyglot_notebook": {
     "kernelName": "csharp"
    }
   },
   "outputs": [],
   "source": [
    "public abstract record Person(string FirstName, string LastName);\n",
    "\n",
    "public record Teacher(string FirstName, string LastName, int Grade)\n",
    "    : Person(FirstName, LastName);\n",
    "    \n",
    "public record Student(string FirstName, string LastName, int Grade)\n",
    "    : Person(FirstName, LastName);"
   ]
  },
  {
   "cell_type": "code",
   "execution_count": 45,
   "metadata": {
    "dotnet_interactive": {
     "language": "csharp"
    },
    "polyglot_notebook": {
     "kernelName": "csharp"
    }
   },
   "outputs": [
    {
     "ename": "Error",
     "evalue": "(16,1): error CS8852: Init-only property or indexer 'Point.X' can only be assigned in an object initializer, or on 'this' or 'base' in an instance constructor or an 'init' accessor.",
     "output_type": "error",
     "traceback": [
      "(16,1): error CS8852: Init-only property or indexer 'Point.X' can only be assigned in an object initializer, or on 'this' or 'base' in an instance constructor or an 'init' accessor."
     ]
    }
   ],
   "source": [
    "public readonly record struct Point(double X, double Y, double Z);\n",
    "\n",
    "public readonly struct StructPoint\n",
    "{\n",
    "    public double X { get; }\n",
    "    public double Y { get; }\n",
    "    public double Z { get; }\n",
    "\n",
    "    public StructPoint(double x, double y, double z)\n",
    "    {\n",
    "        X = x; Y = y; Z = z;\n",
    "    }\n",
    "}\n",
    "\n",
    "var point = new Point(1, 2, 3);\n",
    "//point.X = 3;"
   ]
  },
  {
   "attachments": {},
   "cell_type": "markdown",
   "metadata": {},
   "source": [
    "## Fit and finish features"
   ]
  },
  {
   "cell_type": "code",
   "execution_count": 46,
   "metadata": {
    "dotnet_interactive": {
     "language": "csharp"
    },
    "polyglot_notebook": {
     "kernelName": "csharp"
    }
   },
   "outputs": [],
   "source": [
    "List<WeatherObservation> observations = new();\n",
    "var observations2 = new List<WeatherObservation>();\n",
    "\n",
    "public class WeatherForecast\n",
    "{\n",
    "    public WeatherForecast(DateTime dateTime, List<WeatherObservation> observations)\n",
    "    {\n",
    "\n",
    "    }\n",
    "}\n",
    "\n",
    "var forecast = new WeatherForecast(new(2023, 2, 16), new());"
   ]
  },
  {
   "attachments": {},
   "cell_type": "markdown",
   "metadata": {},
   "source": [
    "## Global using directives"
   ]
  },
  {
   "attachments": {},
   "cell_type": "markdown",
   "metadata": {},
   "source": [
    "## File-scoped namespace declaration"
   ]
  },
  {
   "attachments": {},
   "cell_type": "markdown",
   "metadata": {},
   "source": [
    "## Generic attributes"
   ]
  },
  {
   "cell_type": "code",
   "execution_count": 47,
   "metadata": {
    "dotnet_interactive": {
     "language": "csharp"
    },
    "polyglot_notebook": {
     "kernelName": "csharp"
    }
   },
   "outputs": [
    {
     "ename": "Error",
     "evalue": "(16,5): error CS8968: 'T': an attribute type argument cannot use type parameters",
     "output_type": "error",
     "traceback": [
      "(16,5): error CS8968: 'T': an attribute type argument cannot use type parameters"
     ]
    }
   ],
   "source": [
    "public class TypeAttribute : Attribute\n",
    "{\n",
    "    public TypeAttribute(Type type) { }\n",
    "}\n",
    "\n",
    "public class GenericAttribute<T> : Attribute { }\n",
    "\n",
    "[TypeAttribute(typeof(string))]\n",
    "public string NotGenMethod() => default;\n",
    "\n",
    "[GenericAttribute<string>()]\n",
    "public string GenMethod() => default;\n",
    "\n",
    "public class GenericType<T>\n",
    "{\n",
    "   [GenericAttribute<int>()] // Not allowed! generic attributes must be fully constructed types.\n",
    "   public string Method() => default;\n",
    "}"
   ]
  },
  {
   "attachments": {},
   "cell_type": "markdown",
   "metadata": {},
   "source": [
    "## Raw string literals"
   ]
  },
  {
   "cell_type": "code",
   "execution_count": 48,
   "metadata": {
    "dotnet_interactive": {
     "language": "csharp"
    },
    "polyglot_notebook": {
     "kernelName": "csharp"
    }
   },
   "outputs": [
    {
     "name": "stdout",
     "output_type": "stream",
     "text": [
      "This is a long message.\r\n",
      "It has several lines.\r\n",
      "    Some are indented\r\n",
      "            more than others.\r\n",
      "Some should start at the first column.\r\n",
      "Some have \"quoted text\" in them.\r\n"
     ]
    }
   ],
   "source": [
    "string longMessage = \"\"\"\n",
    "    This is a long message.\n",
    "    It has several lines.\n",
    "        Some are indented \n",
    "                more than others.\n",
    "    Some should start at the first column.\n",
    "    Some have \"quoted text\" in them.\n",
    "    \"\"\";\n",
    "\n",
    "Console.WriteLine(longMessage);"
   ]
  },
  {
   "attachments": {},
   "cell_type": "markdown",
   "metadata": {},
   "source": [
    "# Interfaces"
   ]
  },
  {
   "attachments": {},
   "cell_type": "markdown",
   "metadata": {},
   "source": [
    "### Default implementations"
   ]
  },
  {
   "cell_type": "code",
   "execution_count": null,
   "metadata": {
    "dotnet_interactive": {
     "language": "csharp"
    },
    "polyglot_notebook": {
     "kernelName": "csharp"
    }
   },
   "outputs": [],
   "source": [
    "interface ICoordinateSystem<T>\n",
    "{\n",
    "\n",
    "    public int AxisCount { get; }\n",
    "\n",
    "    public T GetAt(int axis);\n",
    "    protected void SetAt(int axis, T value);\n",
    "\n",
    "    public IEnumerable<T> AsEnumerable()\n",
    "    {\n",
    "        return Enumerable.Range(0, AxisCount).Select(i => GetAt(i));\n",
    "    }\n",
    "\n",
    "    public static ICoordinateSystem<T> Create2D(T x, T y)\n",
    "        => new CoordinateSystemBase<T>(x, y);\n",
    "}\n",
    "\n",
    "class CoordinateSystemBase<T> : ICoordinateSystem<T>\n",
    "{\n",
    "\n",
    "    private T[] axes;\n",
    "\n",
    "    public int AxisCount => axes.Length;\n",
    "\n",
    "    public CoordinateSystemBase(params T[] axes)\n",
    "    {\n",
    "        this.axes = new T[axes.Length];\n",
    "        Array.Copy(axes, this.axes, axes.Length);\n",
    "    }\n",
    "\n",
    "    public T GetAt(int axis) => this.axes[axis];\n",
    "    public void SetAt(int axis, T value) => this.axes[axis] = value;\n",
    "\n",
    "}\n",
    "\n",
    "CoordinateSystemBase<double> coordSysBase = new CoordinateSystemBase<double>(10.0, 15.0);\n",
    "coordSysBase.SetAt(0, 0.0);\n",
    "\n",
    "ICoordinateSystem<double> coordSys = coordSysBase;\n",
    "//coordSys.SetAt(0, 0.0);\n",
    "\n",
    "ICoordinateSystem<double> coordSys2D = ICoordinateSystem<double>.Create2D(10, 13);\n",
    "coordSysBase.SetAt(0, 0.0);"
   ]
  },
  {
   "cell_type": "code",
   "execution_count": null,
   "metadata": {
    "dotnet_interactive": {
     "language": "csharp"
    },
    "polyglot_notebook": {
     "kernelName": "csharp"
    }
   },
   "outputs": [],
   "source": [
    "interface ICoordinateSystem2D<T> : ICoordinateSystem<T>\n",
    "{\n",
    "    public T X \n",
    "    {\n",
    "        get => GetAt(0);\n",
    "        set => SetAt(0, value);    \n",
    "    }\n",
    "\n",
    "    public T Y\n",
    "    {\n",
    "        get => GetAt(1);\n",
    "        set => SetAt(1, value);\n",
    "    }\n",
    "}"
   ]
  },
  {
   "cell_type": "code",
   "execution_count": null,
   "metadata": {
    "dotnet_interactive": {
     "language": "csharp"
    },
    "polyglot_notebook": {
     "kernelName": "csharp"
    }
   },
   "outputs": [],
   "source": [
    "interface IDataProcessor\n",
    "{\n",
    "    public void ProcessData(string path);\n",
    "\n",
    "    public abstract static string[] SupportedFormats();\n",
    "}\n",
    "\n",
    "class MusicProcessor : IDataProcessor\n",
    "{\n",
    "    public void ProcessData(string path)\n",
    "    {\n",
    "        // Do stuff\n",
    "    }\n",
    "\n",
    "    public static string[] SupportedFormats()\n",
    "        => new string[] { \"mp3\", \"wav\" };\n",
    "}\n",
    "\n",
    "class VideoProcessor : IDataProcessor\n",
    "{\n",
    "\n",
    "    public void ProcessData(string path)\n",
    "    {\n",
    "        // Do stuff\n",
    "    }\n",
    "\n",
    "    public static string[] SupportedFormats()\n",
    "        => new string[] { \"mp4\", \"avi\" };\n",
    "\n",
    "}\n",
    "\n",
    "void ProcessData<T>(T processor) where T : IDataProcessor\n",
    "{\n",
    "    if (T.SupportedFormats().Contains(\"mp4\"))\n",
    "    {\n",
    "        return;\n",
    "    }\n",
    "}"
   ]
  },
  {
   "attachments": {},
   "cell_type": "markdown",
   "metadata": {},
   "source": [
    "### Generic operators"
   ]
  },
  {
   "cell_type": "code",
   "execution_count": 22,
   "metadata": {
    "dotnet_interactive": {
     "language": "csharp"
    },
    "polyglot_notebook": {
     "kernelName": "csharp"
    }
   },
   "outputs": [],
   "source": [
    "using System.Numerics;\n",
    "\n",
    "interface IPoint<T, TSelf> where TSelf : IPoint<T, TSelf>\n",
    "{\n",
    "    public T X { get; }\n",
    "    public T Y { get; }\n",
    "\n",
    "    public abstract static TSelf operator *(TSelf left, T right);\n",
    "}\n",
    "\n",
    "class DoublePoint : IPoint<double, DoublePoint>\n",
    "{   \n",
    "    public double X { get; }\n",
    "    public double Y { get; }\n",
    "\n",
    "    public DoublePoint(double x, double y) \n",
    "        => (X, Y) = (x, y);\n",
    "\n",
    "    public static DoublePoint operator *(DoublePoint left, double right)\n",
    "    {\n",
    "        return new DoublePoint(left.X * right, left.Y * right);\n",
    "    }\n",
    "}"
   ]
  },
  {
   "attachments": {},
   "cell_type": "markdown",
   "metadata": {},
   "source": [
    "https://learn.microsoft.com/en-us/dotnet/standard/generics/math"
   ]
  },
  {
   "cell_type": "code",
   "execution_count": null,
   "metadata": {
    "dotnet_interactive": {
     "language": "csharp"
    },
    "polyglot_notebook": {
     "kernelName": "csharp"
    }
   },
   "outputs": [],
   "source": [
    "using System.Numerics;\n",
    "int x = 0;\n",
    "\n",
    "IMinMaxValue<int> minMax = x;\n"
   ]
  }
 ],
 "metadata": {
  "kernelspec": {
   "display_name": ".NET (C#)",
   "language": "C#",
   "name": ".net-csharp"
  },
  "language_info": {
   "name": "polyglot-notebook"
  },
  "polyglot_notebook": {
   "kernelInfo": {
    "defaultKernelName": "csharp",
    "items": [
     {
      "aliases": [],
      "name": ".NET"
     },
     {
      "aliases": [
       "C#",
       "c#"
      ],
      "languageName": "C#",
      "name": "csharp"
     },
     {
      "aliases": [
       "F#",
       "f#"
      ],
      "languageName": "F#",
      "name": "fsharp"
     },
     {
      "aliases": [],
      "languageName": "HTML",
      "name": "html"
     },
     {
      "aliases": [
       "js"
      ],
      "languageName": "JavaScript",
      "name": "javascript"
     },
     {
      "aliases": [],
      "languageName": "KQL",
      "name": "kql"
     },
     {
      "aliases": [],
      "languageName": "Mermaid",
      "name": "mermaid"
     },
     {
      "aliases": [
       "powershell"
      ],
      "languageName": "PowerShell",
      "name": "pwsh"
     },
     {
      "aliases": [],
      "languageName": "SQL",
      "name": "sql"
     },
     {
      "aliases": [],
      "name": "value"
     },
     {
      "aliases": [
       "frontend"
      ],
      "name": "vscode"
     },
     {
      "aliases": [],
      "name": "webview"
     }
    ]
   }
  }
 },
 "nbformat": 4,
 "nbformat_minor": 2
}
