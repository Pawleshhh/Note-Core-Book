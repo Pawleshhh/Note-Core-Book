{
 "cells": [
  {
   "attachments": {},
   "cell_type": "markdown",
   "metadata": {
    "dotnet_interactive": {
     "language": "csharp"
    },
    "polyglot_notebook": {
     "kernelName": "csharp"
    }
   },
   "source": [
    "# MEET THE NET\n",
    "## C# 7.0\n",
    "\n",
    "### Pattern matching"
   ]
  },
  {
   "cell_type": "code",
   "execution_count": 17,
   "metadata": {
    "dotnet_interactive": {
     "language": "csharp"
    },
    "polyglot_notebook": {
     "kernelName": "csharp"
    },
    "vscode": {
     "languageId": "polyglot-notebook"
    }
   },
   "outputs": [
    {
     "name": "stdout",
     "output_type": "stream",
     "text": [
      "StartSystem\r\n"
     ]
    }
   ],
   "source": [
    "using System.Runtime.CompilerServices;\n",
    "\n",
    "enum Operation { SystemTest, Start, Stop, Reset }\n",
    "class State \n",
    "{ \n",
    "    public static State CreateState([CallerMemberName]string message = \"\") \n",
    "    { \n",
    "        Console.WriteLine(message);\n",
    "        return new State();\n",
    "    }\n",
    "}\n",
    "\n",
    "State PerformOperation(Operation command) =>\n",
    "   command switch\n",
    "   {\n",
    "       Operation.SystemTest => RunDiagnostics(),\n",
    "       Operation.Start => StartSystem(),\n",
    "       Operation.Stop => StopSystem(),\n",
    "       Operation.Reset => ResetToReady(),\n",
    "       _ => throw new ArgumentException(\"Invalid enum value for command\", nameof(command)),\n",
    "   };\n",
    "\n",
    "State PerformOperation(string command) =>\n",
    "   command switch\n",
    "   {\n",
    "       \"SystemTest\" => RunDiagnostics(),\n",
    "       \"Start\" => StartSystem(),\n",
    "       \"Stop\" => StopSystem(),\n",
    "       \"Reset\" => ResetToReady(),\n",
    "       _ => throw new ArgumentException(\"Invalid string value for command\", nameof(command)),\n",
    "   };\n",
    "\n",
    "State PerformOperation(string command, int seconds) =>\n",
    "   command switch\n",
    "   {\n",
    "       \"SystemTest\" when seconds < 10 => RunDiagnostics(),\n",
    "       \"Start\" when seconds >= 10 && seconds <= 20 => StartSystem(),\n",
    "       \"Stop\" => StopSystem(),\n",
    "       \"Reset\" => ResetToReady(),\n",
    "       _ => throw new ArgumentException(\"Invalid string value for command\", nameof(command)),\n",
    "   };\n",
    "\n",
    "State RunDiagnostics() => State.CreateState();\n",
    "State StartSystem() => State.CreateState();\n",
    "State StopSystem() => State.CreateState();\n",
    "State ResetToReady() => State.CreateState();\n",
    "PerformOperation(\"Start\");"
   ]
  },
  {
   "cell_type": "code",
   "execution_count": 1,
   "metadata": {
    "dotnet_interactive": {
     "language": "csharp"
    },
    "polyglot_notebook": {
     "kernelName": "csharp"
    },
    "vscode": {
     "languageId": "polyglot-notebook"
    }
   },
   "outputs": [
    {
     "name": "stdout",
     "output_type": "stream",
     "text": [
      "solid\n",
      "solid\n"
     ]
    }
   ],
   "source": [
    "string WaterState(int tempInFahrenheit) =>\n",
    "    tempInFahrenheit switch\n",
    "    {\n",
    "        (> 32) and (< 212) => \"liquid\",\n",
    "        < 32 => \"solid\",\n",
    "        > 212 => \"gas\",\n",
    "        32 => \"solid/liquid transition\",\n",
    "        212 => \"liquid / gas transition\",\n",
    "    };\n",
    "\n",
    "string WaterState2(int tempInFahrenheit) =>\n",
    "    tempInFahrenheit switch\n",
    "    {\n",
    "        < 32 => \"solid\",\n",
    "        32 => \"solid/liquid transition\",\n",
    "        < 212 => \"liquid\",\n",
    "        212 => \"liquid / gas transition\",\n",
    "        _ => \"gas\",\n",
    "};\n",
    "\n",
    "Console.WriteLine(WaterState(10));\n",
    "Console.WriteLine(WaterState2(10));"
   ]
  },
  {
   "cell_type": "code",
   "execution_count": 11,
   "metadata": {
    "dotnet_interactive": {
     "language": "csharp"
    },
    "polyglot_notebook": {
     "kernelName": "csharp"
    },
    "vscode": {
     "languageId": "polyglot-notebook"
    }
   },
   "outputs": [
    {
     "name": "stdout",
     "output_type": "stream",
     "text": [
      "20\n",
      "20\n"
     ]
    }
   ],
   "source": [
    "class Order\n",
    "{\n",
    "    public int Items { get; set; }\n",
    "    public decimal Cost { get; set; }\n",
    "\n",
    "    public void Deconstruct(out int items, out decimal cost)\n",
    "    {\n",
    "        items = Items;\n",
    "        cost = Cost;\n",
    "    }\n",
    "}\n",
    "\n",
    "decimal CalculateDiscount(Order order) =>\n",
    "    order switch\n",
    "    {\n",
    "        { Items: > 10, Cost: > 1000.00m } => 0.10m,\n",
    "        { Items: > 5, Cost: > 500.00m } => 0.05m,\n",
    "        { Cost: > 250.00m } => 0.02m,\n",
    "        null => throw new ArgumentNullException(nameof(order), \"Can't calculate discount on null order\"),\n",
    "        var someObject => someObject.Cost,\n",
    "    };\n",
    "\n",
    "decimal CalculateDiscount2(Order order) =>\n",
    "    order switch\n",
    "    {\n",
    "        ( > 10,  > 1000.00m) => 0.10m,\n",
    "        ( > 5, > 50.00m) => 0.05m,\n",
    "        { Cost: > 250.00m } => 0.02m,\n",
    "        null => throw new ArgumentNullException(nameof(order), \"Can't calculate discount on null order\"),\n",
    "        var someObject => someObject.Cost,\n",
    "    };\n",
    "\n",
    "Console.WriteLine(CalculateDiscount(new Order { Items = 10, Cost = 20m }));\n",
    "Console.WriteLine(CalculateDiscount2(new Order { Items = 10, Cost = 20m }));"
   ]
  },
  {
   "cell_type": "code",
   "execution_count": 16,
   "metadata": {
    "dotnet_interactive": {
     "language": "csharp"
    },
    "polyglot_notebook": {
     "kernelName": "csharp"
    },
    "vscode": {
     "languageId": "polyglot-notebook"
    }
   },
   "outputs": [
    {
     "name": "stdout",
     "output_type": "stream",
     "text": [
      "Record: 04-01-2020, DEPOSIT, Initial deposit, 2250.00, New balance: $2,250.00\n",
      "Record: 04-15-2020, DEPOSIT, Refund, 125.65, New balance: $2,375.65\n",
      "Record: 04-18-2020, DEPOSIT, Paycheck, 825.65, New balance: $3,201.30\n",
      "Record: 04-22-2020, WITHDRAWAL, Debit, Groceries, 255.73, New balance: $2,945.57\n",
      "Record: 05-01-2020, WITHDRAWAL, #1102, Rent, apt, 2100.00, New balance: $845.57\n",
      "Record: 05-02-2020, INTEREST, 0.65, New balance: $846.22\n",
      "Record: 05-07-2020, WITHDRAWAL, Debit, Movies, 12.57, New balance: $833.65\n",
      "Record: 04-15-2020, FEE, 5.55, New balance: $828.10\n"
     ]
    }
   ],
   "source": [
    "List<string[]> stringList = new List<string[]>()\n",
    "{\n",
    "    new string[] { \"04-01-2020\", \"DEPOSIT\"   , \"Initial deposit\",                     \"2250.00\" },\n",
    "    new string[] { \"04-15-2020\", \"DEPOSIT\"   , \"Refund\"         ,                     \"125.65\"  },\n",
    "    new string[] { \"04-18-2020\", \"DEPOSIT\"   , \"Paycheck\"       ,                     \"825.65\"  },\n",
    "    new string[] { \"04-22-2020\", \"WITHDRAWAL\", \"Debit\"          , \"Groceries\",        \"255.73\"  },\n",
    "    new string[] { \"05-01-2020\", \"WITHDRAWAL\", \"#1102\"          , \"Rent\"     , \"apt\", \"2100.00\" },\n",
    "    new string[] { \"05-02-2020\", \"INTEREST\"  ,                                        \"0.65\"    },\n",
    "    new string[] { \"05-07-2020\", \"WITHDRAWAL\", \"Debit\"          , \"Movies\"   ,        \"12.57\"   },\n",
    "    new string[] { \"04-15-2020\", \"FEE\"       ,                                        \"5.55\"    },\n",
    "};\n",
    "\n",
    "decimal balance = 0m;\n",
    "foreach (string[] transaction in stringList)\n",
    "{\n",
    "    balance += transaction switch\n",
    "    {\n",
    "        [_, \"DEPOSIT\"   , _ , var amount] => decimal.Parse(amount),\n",
    "        [_, \"WITHDRAWAL\", .., var amount] => -decimal.Parse(amount),\n",
    "        [_, \"INTEREST\"  ,     var amount] => decimal.Parse(amount),\n",
    "        [_, \"FEE\"       ,     var fee]    => -decimal.Parse(fee),\n",
    "        _                                 => throw new InvalidOperationException($\"Record {string.Join(\", \", transaction)} is not in the expected format!\"),\n",
    "    };\n",
    "    Console.WriteLine($\"Record: {string.Join(\", \", transaction)}, New balance: {balance:C}\");\n",
    "}"
   ]
  },
  {
   "attachments": {},
   "cell_type": "markdown",
   "metadata": {
    "dotnet_interactive": {
     "language": "csharp"
    },
    "polyglot_notebook": {
     "kernelName": "csharp"
    }
   },
   "source": [
    "### Ref locals"
   ]
  },
  {
   "cell_type": "code",
   "execution_count": 11,
   "metadata": {
    "dotnet_interactive": {
     "language": "csharp"
    },
    "polyglot_notebook": {
     "kernelName": "csharp"
    },
    "vscode": {
     "languageId": "polyglot-notebook"
    }
   },
   "outputs": [
    {
     "name": "stdout",
     "output_type": "stream",
     "text": [
      "Original sequence: 1 3 7 15 31 63 127 255 511 1023\n",
      "New sequence:      1 3 7 15 62 63 127 255 511 1023\n"
     ]
    }
   ],
   "source": [
    "class NumberStore\n",
    "{\n",
    "    int[] numbers = { 1, 3, 7, 15, 31, 63, 127, 255, 511, 1023 };\n",
    "\n",
    "    public ref int FindNumber(int target)\n",
    "    {\n",
    "        for (int ctr = 0; ctr < numbers.Length; ctr++)\n",
    "        {\n",
    "            if (numbers[ctr] >= target)\n",
    "                return ref numbers[ctr];\n",
    "        }\n",
    "        return ref numbers[0];\n",
    "    }\n",
    "\n",
    "    public override string ToString() => string.Join(\" \", numbers);\n",
    "}\n",
    "\n",
    "static void NumberStoreTest()\n",
    "{\n",
    "    var store = new NumberStore();\n",
    "    Console.WriteLine($\"Original sequence: {store.ToString()}\");\n",
    "    int number = 16;\n",
    "    ref var value = ref store.FindNumber(number);\n",
    "    value *= 2;\n",
    "    Console.WriteLine($\"New sequence:      {store.ToString()}\");\n",
    "}\n",
    "\n",
    "NumberStoreTest();"
   ]
  },
  {
   "attachments": {},
   "cell_type": "markdown",
   "metadata": {
    "dotnet_interactive": {
     "language": "csharp"
    },
    "polyglot_notebook": {
     "kernelName": "csharp"
    }
   },
   "source": [
    "## Deconstructors"
   ]
  },
  {
   "cell_type": "code",
   "execution_count": 2,
   "metadata": {
    "dotnet_interactive": {
     "language": "csharp"
    },
    "polyglot_notebook": {
     "kernelName": "csharp"
    },
    "vscode": {
     "languageId": "polyglot-notebook"
    }
   },
   "outputs": [
    {
     "name": "stdout",
     "output_type": "stream",
     "text": [
      "2023, 2, 16\r\n"
     ]
    }
   ],
   "source": [
    "public static void Deconstruct(this DateTime dateTime, out int year, out int month, out int day)\n",
    "{\n",
    "    year = dateTime.Year;\n",
    "    month = dateTime.Month;\n",
    "    day = dateTime.Day;\n",
    "}\n",
    "\n",
    "var dateTime = new DateTime(2023, 02, 16);\n",
    "var (y, m, d) = dateTime;\n",
    "Console.WriteLine($\"{y}, {m}, {d}\");"
   ]
  },
  {
   "attachments": {},
   "cell_type": "markdown",
   "metadata": {
    "dotnet_interactive": {
     "language": "csharp"
    },
    "polyglot_notebook": {
     "kernelName": "csharp"
    }
   },
   "source": [
    "## C# 7.2\n",
    "\n",
    "### Readonly struct"
   ]
  },
  {
   "cell_type": "code",
   "execution_count": 12,
   "metadata": {
    "dotnet_interactive": {
     "language": "csharp"
    },
    "polyglot_notebook": {
     "kernelName": "csharp"
    },
    "vscode": {
     "languageId": "polyglot-notebook"
    }
   },
   "outputs": [],
   "source": [
    "readonly struct Point\n",
    "{\n",
    "    public readonly double X;\n",
    "    public readonly double Y;\n",
    "\n",
    "    public double Z { get; }\n",
    "}"
   ]
  },
  {
   "attachments": {},
   "cell_type": "markdown",
   "metadata": {
    "dotnet_interactive": {
     "language": "csharp"
    },
    "polyglot_notebook": {
     "kernelName": "csharp"
    }
   },
   "source": [
    "## C# 8.0\n",
    "\n",
    "### Readonly instance members"
   ]
  },
  {
   "cell_type": "code",
   "execution_count": 30,
   "metadata": {
    "dotnet_interactive": {
     "language": "csharp"
    },
    "polyglot_notebook": {
     "kernelName": "csharp"
    },
    "vscode": {
     "languageId": "polyglot-notebook"
    }
   },
   "outputs": [
    {
     "ename": "Error",
     "evalue": "(6,28): error CS0106: The modifier 'readonly' is not valid for this item",
     "output_type": "error",
     "traceback": [
      "(6,28): error CS0106: The modifier 'readonly' is not valid for this item"
     ]
    }
   ],
   "source": [
    "class Point\n",
    "{\n",
    "    public double X;\n",
    "    public double Y;\n",
    "\n",
    "    public readonly double DoSomeStuff()\n",
    "    {\n",
    "        X = X * 2;\n",
    "        return X + Y;\n",
    "    }\n",
    "}"
   ]
  },
  {
   "attachments": {},
   "cell_type": "markdown",
   "metadata": {
    "dotnet_interactive": {
     "language": "csharp"
    },
    "polyglot_notebook": {
     "kernelName": "csharp"
    }
   },
   "source": [
    "## Nullable reference types (Nullable context)"
   ]
  },
  {
   "cell_type": "code",
   "execution_count": null,
   "metadata": {
    "dotnet_interactive": {
     "language": "csharp"
    },
    "polyglot_notebook": {
     "kernelName": "csharp"
    },
    "vscode": {
     "languageId": "polyglot-notebook"
    }
   },
   "outputs": [],
   "source": [
    "class Bottle { public string Label { get; } }"
   ]
  },
  {
   "attachments": {},
   "cell_type": "markdown",
   "metadata": {
    "dotnet_interactive": {
     "language": "csharp"
    },
    "polyglot_notebook": {
     "kernelName": "csharp"
    }
   },
   "source": [
    "## C# 9.0 (NET5)\n",
    "\n",
    "### Init only setters"
   ]
  },
  {
   "cell_type": "code",
   "execution_count": 9,
   "metadata": {
    "dotnet_interactive": {
     "language": "csharp"
    },
    "polyglot_notebook": {
     "kernelName": "csharp"
    },
    "vscode": {
     "languageId": "polyglot-notebook"
    }
   },
   "outputs": [],
   "source": [
    "public struct WeatherObservation\n",
    "{\n",
    "    public DateTime RecordedAt { get; init; }\n",
    "    public decimal TemperatureInCelsius { get; init; }\n",
    "    public decimal PressureInMillibars { get; init; }\n",
    "\n",
    "    public override string ToString() =>\n",
    "        $\"At {RecordedAt:h:mm tt} on {RecordedAt:M/d/yyyy}: \" +\n",
    "        $\"Temp = {TemperatureInCelsius}, with {PressureInMillibars} pressure\";\n",
    "}\n",
    "\n",
    "var now = new WeatherObservation \n",
    "{ \n",
    "    RecordedAt = DateTime.Now, \n",
    "    TemperatureInCelsius = 20, \n",
    "    PressureInMillibars = 998.0m \n",
    "};\n",
    "\n",
    "// Error! CS8852.\n",
    "//now.TemperatureInCelsius = 18;"
   ]
  },
  {
   "attachments": {},
   "cell_type": "markdown",
   "metadata": {
    "dotnet_interactive": {
     "language": "csharp"
    },
    "polyglot_notebook": {
     "kernelName": "csharp"
    }
   },
   "source": [
    "### Record types\n",
    "\n",
    "#### Kotlin example\n",
    "```kotlin\n",
    "data class User(val name: String, val age: Int)\n",
    "```"
   ]
  },
  {
   "cell_type": "code",
   "execution_count": 7,
   "metadata": {
    "dotnet_interactive": {
     "language": "csharp"
    },
    "polyglot_notebook": {
     "kernelName": "csharp"
    },
    "vscode": {
     "languageId": "polyglot-notebook"
    }
   },
   "outputs": [
    {
     "data": {
      "text/plain": [
       "MT"
      ]
     },
     "metadata": {},
     "output_type": "display_data"
    }
   ],
   "source": [
    "public record SmallPerson(string FirstName, string LastName);\n",
    "\n",
    "public record BigPerson\n",
    "{\n",
    "    public string FirstName { get; init; } = default!;\n",
    "    public string LastName { get; init; } = default!;\n",
    "}\n",
    "\n",
    "var person = new SmallPerson(\"MT\", \"WP\");\n",
    "var (first, last) = person;\n",
    "(string f, _) = person;\n",
    "Console.WriteLine($\"{first}, {last}\");"
   ]
  },
  {
   "cell_type": "code",
   "execution_count": 8,
   "metadata": {
    "dotnet_interactive": {
     "language": "csharp"
    },
    "polyglot_notebook": {
     "kernelName": "csharp"
    },
    "vscode": {
     "languageId": "polyglot-notebook"
    }
   },
   "outputs": [
    {
     "data": {
      "text/html": [
       "<table><thead><tr><th>FirstName</th><th>LastName</th></tr></thead><tbody><tr><td><div class=\"dni-plaintext\"><pre>MT</pre></div></td><td><div class=\"dni-plaintext\"><pre>ZP</pre></div></td></tr></tbody></table><style>\r\n",
       ".dni-code-hint {\r\n",
       "    font-style: italic;\r\n",
       "    overflow: hidden;\r\n",
       "    white-space: nowrap;\r\n",
       "}\r\n",
       ".dni-treeview {\r\n",
       "    white-space: nowrap;\r\n",
       "}\r\n",
       ".dni-treeview td {\r\n",
       "    vertical-align: top;\r\n",
       "    text-align: start;\r\n",
       "}\r\n",
       "details.dni-treeview {\r\n",
       "    padding-left: 1em;\r\n",
       "}\r\n",
       "table td {\r\n",
       "    text-align: start;\r\n",
       "}\r\n",
       "table tr { \r\n",
       "    vertical-align: top; \r\n",
       "    margin: 0em 0px;\r\n",
       "}\r\n",
       "table tr td pre \r\n",
       "{ \r\n",
       "    vertical-align: top !important; \r\n",
       "    margin: 0em 0px !important;\r\n",
       "} \r\n",
       "table th {\r\n",
       "    text-align: start;\r\n",
       "}\r\n",
       "</style>"
      ]
     },
     "metadata": {},
     "output_type": "display_data"
    }
   ],
   "source": [
    "var person2 = person with { LastName = \"ZP\" };\n",
    "person2"
   ]
  },
  {
   "cell_type": "code",
   "execution_count": null,
   "metadata": {
    "dotnet_interactive": {
     "language": "csharp"
    },
    "polyglot_notebook": {
     "kernelName": "csharp"
    },
    "vscode": {
     "languageId": "polyglot-notebook"
    }
   },
   "outputs": [],
   "source": [
    "public abstract record Person(string FirstName, string LastName);\n",
    "\n",
    "public record Teacher(string FirstName, string LastName, int Grade)\n",
    "    : Person(FirstName, LastName);\n",
    "    \n",
    "public record Student(string FirstName, string LastName, int Grade)\n",
    "    : Person(FirstName, LastName);"
   ]
  },
  {
   "attachments": {},
   "cell_type": "markdown",
   "metadata": {
    "dotnet_interactive": {
     "language": "csharp"
    },
    "polyglot_notebook": {
     "kernelName": "csharp"
    }
   },
   "source": [
    "## Pattern matching enhancements"
   ]
  },
  {
   "cell_type": "code",
   "execution_count": null,
   "metadata": {
    "dotnet_interactive": {
     "language": "csharp"
    },
    "polyglot_notebook": {
     "kernelName": "csharp"
    },
    "vscode": {
     "languageId": "polyglot-notebook"
    }
   },
   "outputs": [],
   "source": [
    "public static bool IsLetter(this char c) =>\n",
    "    c is >= 'a' and <= 'z' or >= 'A' and <= 'Z';\n",
    "\n",
    "public static bool IsLetterOrSeparator(this char c) =>\n",
    "    c is (>= 'a' and <= 'z') or (>= 'A' and <= 'Z') or '.' or ',';"
   ]
  },
  {
   "attachments": {},
   "cell_type": "markdown",
   "metadata": {
    "dotnet_interactive": {
     "language": "csharp"
    },
    "polyglot_notebook": {
     "kernelName": "csharp"
    }
   },
   "source": [
    "## Fit and finish features"
   ]
  },
  {
   "cell_type": "code",
   "execution_count": 10,
   "metadata": {
    "dotnet_interactive": {
     "language": "csharp"
    },
    "polyglot_notebook": {
     "kernelName": "csharp"
    },
    "vscode": {
     "languageId": "polyglot-notebook"
    }
   },
   "outputs": [],
   "source": [
    "List<WeatherObservation> observations = new();\n",
    "\n",
    "public class WeatherForecast\n",
    "{\n",
    "    public WeatherForecast(DateTime dateTime, List<WeatherObservation> observations)\n",
    "    {\n",
    "\n",
    "    }\n",
    "}\n",
    "\n",
    "var forecast = new WeatherForecast(new DateTime(2023, 2, 16), new());"
   ]
  },
  {
   "attachments": {},
   "cell_type": "markdown",
   "metadata": {
    "dotnet_interactive": {
     "language": "csharp"
    },
    "polyglot_notebook": {
     "kernelName": "csharp"
    }
   },
   "source": [
    "# C# 10.0 (NET6)"
   ]
  },
  {
   "attachments": {},
   "cell_type": "markdown",
   "metadata": {
    "dotnet_interactive": {
     "language": "csharp"
    },
    "polyglot_notebook": {
     "kernelName": "csharp"
    }
   },
   "source": [
    "## Record structs"
   ]
  },
  {
   "cell_type": "code",
   "execution_count": null,
   "metadata": {
    "dotnet_interactive": {
     "language": "csharp"
    },
    "polyglot_notebook": {
     "kernelName": "csharp"
    },
    "vscode": {
     "languageId": "polyglot-notebook"
    }
   },
   "outputs": [],
   "source": [
    "public readonly record struct Point(double X, double Y, double Z);\n",
    "\n",
    "public readonly struct StructPoint\n",
    "{\n",
    "    public double X { get; }\n",
    "    public double Y { get; }\n",
    "    public double Z { get; }\n",
    "\n",
    "    public StructPoint(double x, double y, double z)\n",
    "    {\n",
    "        X = x; Y = y; Z = z;\n",
    "    }\n",
    "}\n",
    "\n",
    "var point = new Point(1, 2, 3);\n",
    "//point.X = 3;"
   ]
  },
  {
   "attachments": {},
   "cell_type": "markdown",
   "metadata": {
    "dotnet_interactive": {
     "language": "csharp"
    },
    "polyglot_notebook": {
     "kernelName": "csharp"
    }
   },
   "source": [
    "## Global using directives"
   ]
  },
  {
   "attachments": {},
   "cell_type": "markdown",
   "metadata": {
    "dotnet_interactive": {
     "language": "csharp"
    },
    "polyglot_notebook": {
     "kernelName": "csharp"
    }
   },
   "source": [
    "## File-scoped namespace declaration"
   ]
  },
  {
   "attachments": {},
   "cell_type": "markdown",
   "metadata": {
    "dotnet_interactive": {
     "language": "csharp"
    },
    "polyglot_notebook": {
     "kernelName": "csharp"
    }
   },
   "source": [
    "# C# 11.0 (NET7)"
   ]
  },
  {
   "attachments": {},
   "cell_type": "markdown",
   "metadata": {
    "dotnet_interactive": {
     "language": "csharp"
    },
    "polyglot_notebook": {
     "kernelName": "csharp"
    }
   },
   "source": [
    "## Generic attributes"
   ]
  },
  {
   "cell_type": "code",
   "execution_count": null,
   "metadata": {
    "dotnet_interactive": {
     "language": "csharp"
    },
    "polyglot_notebook": {
     "kernelName": "csharp"
    },
    "vscode": {
     "languageId": "polyglot-notebook"
    }
   },
   "outputs": [],
   "source": [
    "public class GenericAttribute<T> : Attribute { }\n",
    "public class TypeAttribute : Attribute\n",
    "{\n",
    "    public TypeAttribute(Type type) { }\n",
    "}\n",
    "\n",
    "[TypeAttribute(typeof(string))]\n",
    "public string NotGenMethod() => default;\n",
    "\n",
    "[GenericAttribute<string>()]\n",
    "public string GenMethod() => default;\n",
    "\n",
    "public class GenericType<T>\n",
    "{\n",
    "   [GenericAttribute<T>()] // Not allowed! generic attributes must be fully constructed types.\n",
    "   public string Method() => default;\n",
    "}"
   ]
  },
  {
   "attachments": {},
   "cell_type": "markdown",
   "metadata": {
    "dotnet_interactive": {
     "language": "csharp"
    },
    "polyglot_notebook": {
     "kernelName": "csharp"
    }
   },
   "source": [
    "## Raw string literals"
   ]
  },
  {
   "cell_type": "code",
   "execution_count": null,
   "metadata": {
    "dotnet_interactive": {
     "language": "csharp"
    },
    "polyglot_notebook": {
     "kernelName": "csharp"
    },
    "vscode": {
     "languageId": "polyglot-notebook"
    }
   },
   "outputs": [],
   "source": [
    "string longMessage = \"\"\"\n",
    "    This is a long message.\n",
    "    It has several lines.\n",
    "        Some are indented\n",
    "                more than others.\n",
    "    Some should start at the first column.\n",
    "    Some have \"quoted text\" in them.\n",
    "    \"\"\";"
   ]
  },
  {
   "attachments": {},
   "cell_type": "markdown",
   "metadata": {
    "dotnet_interactive": {
     "language": "csharp"
    },
    "polyglot_notebook": {
     "kernelName": "csharp"
    }
   },
   "source": [
    "## Null forgiving operator"
   ]
  },
  {
   "attachments": {},
   "cell_type": "markdown",
   "metadata": {
    "dotnet_interactive": {
     "language": "csharp"
    },
    "polyglot_notebook": {
     "kernelName": "csharp"
    }
   },
   "source": [
    "# Interfaces"
   ]
  }
 ],
 "metadata": {
  "kernelspec": {
   "display_name": ".NET (C#)",
   "language": "C#",
   "name": ".net-csharp"
  },
  "polyglot_notebook": {
   "kernelInfo": {
    "defaultKernelName": "csharp",
    "items": [
     {
      "aliases": [
       "c#",
       "C#"
      ],
      "languageName": "C#",
      "name": "csharp"
     },
     {
      "aliases": [],
      "name": ".NET"
     },
     {
      "aliases": [
       "frontend"
      ],
      "languageName": null,
      "name": "vscode"
     },
     {
      "aliases": [
       "f#",
       "F#"
      ],
      "languageName": "F#",
      "name": "fsharp"
     },
     {
      "aliases": [],
      "languageName": "HTML",
      "name": "html"
     },
     {
      "aliases": [
       "js"
      ],
      "languageName": "JavaScript",
      "name": "javascript"
     },
     {
      "aliases": [],
      "languageName": "KQL",
      "name": "kql"
     },
     {
      "aliases": [],
      "languageName": "Mermaid",
      "name": "mermaid"
     },
     {
      "aliases": [
       "powershell"
      ],
      "languageName": "PowerShell",
      "name": "pwsh"
     },
     {
      "aliases": [],
      "languageName": "SQL",
      "name": "sql"
     },
     {
      "aliases": [],
      "name": "value"
     },
     {
      "aliases": [],
      "name": "webview"
     }
    ]
   }
  }
 },
 "nbformat": 4,
 "nbformat_minor": 2
}
