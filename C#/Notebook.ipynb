{
 "cells": [
  {
   "attachments": {},
   "cell_type": "markdown",
   "metadata": {
    "dotnet_interactive": {
     "language": "csharp"
    },
    "polyglot_notebook": {
     "kernelName": "csharp"
    }
   },
   "source": [
    "# MEET THE NET\n",
    "## C# 7.0\n",
    "\n",
    "### Pattern matching"
   ]
  },
  {
   "cell_type": "code",
   "execution_count": 17,
   "metadata": {
    "dotnet_interactive": {
     "language": "csharp"
    },
    "polyglot_notebook": {
     "kernelName": "csharp"
    },
    "vscode": {
     "languageId": "polyglot-notebook"
    }
   },
   "outputs": [
    {
     "name": "stdout",
     "output_type": "stream",
     "text": [
      "StartSystem\r\n"
     ]
    }
   ],
   "source": [
    "using System.Runtime.CompilerServices;\n",
    "\n",
    "enum Operation { SystemTest, Start, Stop, Reset }\n",
    "class State \n",
    "{ \n",
    "    public static State CreateState([CallerMemberName]string message = \"\") \n",
    "    { \n",
    "        Console.WriteLine(message);\n",
    "        return new State();\n",
    "    }\n",
    "}\n",
    "\n",
    "State PerformOperation(Operation command) =>\n",
    "   command switch\n",
    "   {\n",
    "       Operation.SystemTest => RunDiagnostics(),\n",
    "       Operation.Start => StartSystem(),\n",
    "       Operation.Stop => StopSystem(),\n",
    "       Operation.Reset => ResetToReady(),\n",
    "       _ => throw new ArgumentException(\"Invalid enum value for command\", nameof(command)),\n",
    "   };\n",
    "State PerformOperation(string command) =>\n",
    "   command switch\n",
    "   {\n",
    "       \"SystemTest\" => RunDiagnostics(),\n",
    "       \"Start\" => StartSystem(),\n",
    "       \"Stop\" => StopSystem(),\n",
    "       \"Reset\" => ResetToReady(),\n",
    "       _ => throw new ArgumentException(\"Invalid string value for command\", nameof(command)),\n",
    "   };\n",
    "\n",
    "State PerformOperation(string command, int seconds) =>\n",
    "   command switch\n",
    "   {\n",
    "       \"SystemTest\" when seconds < 10 => RunDiagnostics(),\n",
    "       \"Start\" when seconds >= 10 && seconds <= 20 => StartSystem(),\n",
    "       \"Stop\" => StopSystem(),\n",
    "       \"Reset\" => ResetToReady(),\n",
    "       _ => throw new ArgumentException(\"Invalid string value for command\", nameof(command)),\n",
    "   };\n",
    "\n",
    "State RunDiagnostics() => State.CreateState();\n",
    "State StartSystem() => State.CreateState();\n",
    "State StopSystem() => State.CreateState();\n",
    "State ResetToReady() => State.CreateState();\n",
    "PerformOperation(\"Start\");"
   ]
  },
  {
   "cell_type": "code",
   "execution_count": null,
   "metadata": {
    "dotnet_interactive": {
     "language": "csharp"
    },
    "polyglot_notebook": {
     "kernelName": "csharp"
    },
    "vscode": {
     "languageId": "polyglot-notebook"
    }
   },
   "outputs": [],
   "source": [
    "string WaterState(int tempInFahrenheit) =>\n",
    "    tempInFahrenheit switch\n",
    "    {\n",
    "        (> 32) and (< 212) => \"liquid\",\n",
    "        < 32 => \"solid\",\n",
    "        > 212 => \"gas\",\n",
    "        32 => \"solid/liquid transition\",\n",
    "        212 => \"liquid / gas transition\",\n",
    "    };\n",
    "\n",
    "string WaterState2(int tempInFahrenheit) =>\n",
    "    tempInFahrenheit switch\n",
    "    {\n",
    "        < 32 => \"solid\",\n",
    "        32 => \"solid/liquid transition\",\n",
    "        < 212 => \"liquid\",\n",
    "        212 => \"liquid / gas transition\",\n",
    "        _ => \"gas\",\n",
    "};\n",
    "\n",
    "Console.WriteLine(WaterState(10));\n",
    "Console.WriteLine(WaterState2(10));"
   ]
  },
  {
   "cell_type": "code",
   "execution_count": 11,
   "metadata": {
    "dotnet_interactive": {
     "language": "csharp"
    },
    "polyglot_notebook": {
     "kernelName": "csharp"
    },
    "vscode": {
     "languageId": "polyglot-notebook"
    }
   },
   "outputs": [
    {
     "name": "stdout",
     "output_type": "stream",
     "text": [
      "20\n",
      "20\n"
     ]
    }
   ],
   "source": [
    "class Order\n",
    "{\n",
    "    public int Items { get; set; }\n",
    "    public decimal Cost { get; set; }\n",
    "\n",
    "    public void Deconstruct(out int items, out decimal cost)\n",
    "    {\n",
    "        items = Items;\n",
    "        cost = Cost;\n",
    "    }\n",
    "}\n",
    "\n",
    "decimal CalculateDiscount(Order order) =>\n",
    "    order switch\n",
    "    {\n",
    "        { Items: > 10, Cost: > 1000.00m } => 0.10m,\n",
    "        { Items: > 5, Cost: > 500.00m } => 0.05m,\n",
    "        { Cost: > 250.00m } => 0.02m,\n",
    "        null => throw new ArgumentNullException(nameof(order), \"Can't calculate discount on null order\"),\n",
    "        var someObject => someObject.Cost,\n",
    "    };\n",
    "\n",
    "decimal CalculateDiscount2(Order order) =>\n",
    "    order switch\n",
    "    {\n",
    "        ( > 10,  > 1000.00m) => 0.10m,\n",
    "        ( > 5, > 50.00m) => 0.05m,\n",
    "        { Cost: > 250.00m } => 0.02m,\n",
    "        null => throw new ArgumentNullException(nameof(order), \"Can't calculate discount on null order\"),\n",
    "        var someObject => someObject.Cost,\n",
    "    };\n",
    "\n",
    "Console.WriteLine(CalculateDiscount(new Order { Items = 10, Cost = 20m }));\n",
    "Console.WriteLine(CalculateDiscount2(new Order { Items = 10, Cost = 20m }));"
   ]
  },
  {
   "cell_type": "code",
   "execution_count": 16,
   "metadata": {
    "dotnet_interactive": {
     "language": "csharp"
    },
    "polyglot_notebook": {
     "kernelName": "csharp"
    },
    "vscode": {
     "languageId": "polyglot-notebook"
    }
   },
   "outputs": [
    {
     "name": "stdout",
     "output_type": "stream",
     "text": [
      "Record: 04-01-2020, DEPOSIT, Initial deposit, 2250.00, New balance: $2,250.00\n",
      "Record: 04-15-2020, DEPOSIT, Refund, 125.65, New balance: $2,375.65\n",
      "Record: 04-18-2020, DEPOSIT, Paycheck, 825.65, New balance: $3,201.30\n",
      "Record: 04-22-2020, WITHDRAWAL, Debit, Groceries, 255.73, New balance: $2,945.57\n",
      "Record: 05-01-2020, WITHDRAWAL, #1102, Rent, apt, 2100.00, New balance: $845.57\n",
      "Record: 05-02-2020, INTEREST, 0.65, New balance: $846.22\n",
      "Record: 05-07-2020, WITHDRAWAL, Debit, Movies, 12.57, New balance: $833.65\n",
      "Record: 04-15-2020, FEE, 5.55, New balance: $828.10\n"
     ]
    }
   ],
   "source": [
    "List<string[]> stringList = new List<string[]>()\n",
    "{\n",
    "    new string[] { \"04-01-2020\", \"DEPOSIT\"   , \"Initial deposit\",                     \"2250.00\" },\n",
    "    new string[] { \"04-15-2020\", \"DEPOSIT\"   , \"Refund\"         ,                     \"125.65\"  },\n",
    "    new string[] { \"04-18-2020\", \"DEPOSIT\"   , \"Paycheck\"       ,                     \"825.65\"  },\n",
    "    new string[] { \"04-22-2020\", \"WITHDRAWAL\", \"Debit\"          , \"Groceries\",        \"255.73\"  },\n",
    "    new string[] { \"05-01-2020\", \"WITHDRAWAL\", \"#1102\"          , \"Rent\"     , \"apt\", \"2100.00\" },\n",
    "    new string[] { \"05-02-2020\", \"INTEREST\"  ,                                        \"0.65\"    },\n",
    "    new string[] { \"05-07-2020\", \"WITHDRAWAL\", \"Debit\"          , \"Movies\"   ,        \"12.57\"   },\n",
    "    new string[] { \"04-15-2020\", \"FEE\"       ,                                        \"5.55\"    },\n",
    "};\n",
    "\n",
    "decimal balance = 0m;\n",
    "foreach (string[] transaction in stringList)\n",
    "{\n",
    "    balance += transaction switch\n",
    "    {\n",
    "        [_, \"DEPOSIT\"   , _ , var amount] => decimal.Parse(amount),\n",
    "        [_, \"WITHDRAWAL\", .., var amount] => -decimal.Parse(amount),\n",
    "        [_, \"INTEREST\"  ,     var amount] => decimal.Parse(amount),\n",
    "        [_, \"FEE\"       ,     var fee]    => -decimal.Parse(fee),\n",
    "        _                                 => throw new InvalidOperationException($\"Record {string.Join(\", \", transaction)} is not in the expected format!\"),\n",
    "    };\n",
    "    Console.WriteLine($\"Record: {string.Join(\", \", transaction)}, New balance: {balance:C}\");\n",
    "}"
   ]
  },
  {
   "attachments": {},
   "cell_type": "markdown",
   "metadata": {
    "dotnet_interactive": {
     "language": "csharp"
    },
    "polyglot_notebook": {
     "kernelName": "csharp"
    }
   },
   "source": [
    "### Ref locals"
   ]
  },
  {
   "cell_type": "code",
   "execution_count": 19,
   "metadata": {
    "dotnet_interactive": {
     "language": "csharp"
    },
    "polyglot_notebook": {
     "kernelName": "csharp"
    },
    "vscode": {
     "languageId": "polyglot-notebook"
    }
   },
   "outputs": [
    {
     "ename": "Error",
     "evalue": "(24,5): error CS0131: The left-hand side of an assignment must be a variable, property or indexer",
     "output_type": "error",
     "traceback": [
      "(24,5): error CS0131: The left-hand side of an assignment must be a variable, property or indexer"
     ]
    }
   ],
   "source": [
    "class NumberStore\n",
    "{\n",
    "    int[] numbers = { 1, 3, 7, 15, 31, 63, 127, 255, 511, 1023 };\n",
    "\n",
    "    public ref int FindNumber(int target)\n",
    "    {\n",
    "        for (int ctr = 0; ctr < numbers.Length; ctr++)\n",
    "        {\n",
    "            if (numbers[ctr] >= target)\n",
    "                return ref numbers[ctr];\n",
    "        }\n",
    "        return ref numbers[0];\n",
    "    }\n",
    "\n",
    "    public override string ToString() => string.Join(\" \", numbers);\n",
    "}\n",
    "\n",
    "static void NumberStoreTest()\n",
    "{\n",
    "    var store = new NumberStore();\n",
    "    Console.WriteLine($\"Original sequence: {store.ToString()}\");\n",
    "    int number = 16;\n",
    "    ref var value = ref store.FindNumber(number);\n",
    "    value *= 2;\n",
    "    Console.WriteLine($\"New sequence:      {store.ToString()}\");\n",
    "}\n",
    "\n",
    "NumberStoreTest();"
   ]
  },
  {
   "attachments": {},
   "cell_type": "markdown",
   "metadata": {
    "dotnet_interactive": {
     "language": "csharp"
    },
    "polyglot_notebook": {
     "kernelName": "csharp"
    }
   },
   "source": [
    "`ref readonly int aConstant; // aConstant can't be value-reassigned.`\n",
    "\n",
    "`readonly ref int Storage; // Storage can't be ref-reassigned.`\n",
    "\n",
    "`readonly ref readonly int CantChange; // CantChange can't be value-reassigned or ref-reassigned.`"
   ]
  },
  {
   "attachments": {},
   "cell_type": "markdown",
   "metadata": {
    "dotnet_interactive": {
     "language": "csharp"
    },
    "polyglot_notebook": {
     "kernelName": "csharp"
    }
   },
   "source": [
    "## C# 7.2\n",
    "\n",
    "### Readonly struct"
   ]
  },
  {
   "cell_type": "code",
   "execution_count": 23,
   "metadata": {
    "dotnet_interactive": {
     "language": "csharp"
    },
    "polyglot_notebook": {
     "kernelName": "csharp"
    },
    "vscode": {
     "languageId": "polyglot-notebook"
    }
   },
   "outputs": [
    {
     "ename": "Error",
     "evalue": "(4,19): error CS8340: Instance fields of readonly structs must be readonly.",
     "output_type": "error",
     "traceback": [
      "(4,19): error CS8340: Instance fields of readonly structs must be readonly."
     ]
    }
   ],
   "source": [
    "readonly struct Point\n",
    "{\n",
    "    public readonly double X;\n",
    "    public readonly double Y;\n",
    "\n",
    "    public double Z { get; }\n",
    "}"
   ]
  },
  {
   "attachments": {},
   "cell_type": "markdown",
   "metadata": {
    "dotnet_interactive": {
     "language": "csharp"
    },
    "polyglot_notebook": {
     "kernelName": "csharp"
    }
   },
   "source": [
    "## C# 8.0\n",
    "\n",
    "### Readonly instance members"
   ]
  },
  {
   "cell_type": "code",
   "execution_count": 30,
   "metadata": {
    "dotnet_interactive": {
     "language": "csharp"
    },
    "polyglot_notebook": {
     "kernelName": "csharp"
    },
    "vscode": {
     "languageId": "polyglot-notebook"
    }
   },
   "outputs": [
    {
     "ename": "Error",
     "evalue": "(6,28): error CS0106: The modifier 'readonly' is not valid for this item",
     "output_type": "error",
     "traceback": [
      "(6,28): error CS0106: The modifier 'readonly' is not valid for this item"
     ]
    }
   ],
   "source": [
    "class Point\n",
    "{\n",
    "    public double X;\n",
    "    public double Y;\n",
    "\n",
    "    public readonly double DoSomeStuff()\n",
    "    {\n",
    "        X = X * 2;\n",
    "        return X + Y;\n",
    "    }\n",
    "}"
   ]
  },
  {
   "attachments": {},
   "cell_type": "markdown",
   "metadata": {
    "dotnet_interactive": {
     "language": "csharp"
    },
    "polyglot_notebook": {
     "kernelName": "csharp"
    }
   },
   "source": [
    "## C# 9.0 (NET5)\n",
    "### Record types\n",
    "\n",
    "#### Kotlin example\n",
    "`data class User(val name: String, val age: Int)`"
   ]
  },
  {
   "cell_type": "code",
   "execution_count": 8,
   "metadata": {
    "dotnet_interactive": {
     "language": "csharp"
    },
    "polyglot_notebook": {
     "kernelName": "csharp"
    },
    "vscode": {
     "languageId": "polyglot-notebook"
    }
   },
   "outputs": [],
   "source": [
    "public record SmallPerson(string FirstName, string LastName);\n",
    "\n",
    "public record BigPerson\n",
    "{\n",
    "    public string FirstName { get; init; } = default!;\n",
    "    public string LastName { get; init; } = default!;\n",
    "}"
   ]
  }
 ],
 "metadata": {
  "kernelspec": {
   "display_name": ".NET (C#)",
   "language": "C#",
   "name": ".net-csharp"
  },
  "polyglot_notebook": {
   "kernelInfo": {
    "defaultKernelName": "csharp",
    "items": [
     {
      "aliases": [
       "c#",
       "C#"
      ],
      "languageName": "C#",
      "name": "csharp"
     },
     {
      "aliases": [],
      "name": ".NET"
     },
     {
      "aliases": [
       "frontend"
      ],
      "languageName": null,
      "name": "vscode"
     },
     {
      "aliases": [
       "f#",
       "F#"
      ],
      "languageName": "F#",
      "name": "fsharp"
     },
     {
      "aliases": [],
      "languageName": "HTML",
      "name": "html"
     },
     {
      "aliases": [
       "js"
      ],
      "languageName": "JavaScript",
      "name": "javascript"
     },
     {
      "aliases": [],
      "languageName": "KQL",
      "name": "kql"
     },
     {
      "aliases": [],
      "languageName": "Mermaid",
      "name": "mermaid"
     },
     {
      "aliases": [
       "powershell"
      ],
      "languageName": "PowerShell",
      "name": "pwsh"
     },
     {
      "aliases": [],
      "languageName": "SQL",
      "name": "sql"
     },
     {
      "aliases": [],
      "name": "value"
     },
     {
      "aliases": [],
      "name": "webview"
     }
    ]
   }
  }
 },
 "nbformat": 4,
 "nbformat_minor": 2
}
